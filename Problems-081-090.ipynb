{
 "cells": [
  {
   "cell_type": "markdown",
   "id": "11acf332",
   "metadata": {},
   "source": [
    "# 81. LOCA  Local Alignment with Scoring Matrix"
   ]
  },
  {
   "cell_type": "markdown",
   "id": "a24cf579",
   "metadata": {},
   "source": [
    "### Loading Data"
   ]
  },
  {
   "cell_type": "code",
   "execution_count": null,
   "id": "984b98a6",
   "metadata": {},
   "outputs": [],
   "source": []
  },
  {
   "cell_type": "code",
   "execution_count": null,
   "id": "467dc13f",
   "metadata": {},
   "outputs": [],
   "source": []
  },
  {
   "cell_type": "markdown",
   "id": "79c01125",
   "metadata": {},
   "source": [
    "# 82. MEND  Inferring Genotype from a Pedigree"
   ]
  },
  {
   "cell_type": "markdown",
   "id": "375bb06c",
   "metadata": {},
   "source": [
    "### Loading Data"
   ]
  },
  {
   "cell_type": "code",
   "execution_count": null,
   "id": "7da1c902",
   "metadata": {},
   "outputs": [],
   "source": []
  },
  {
   "cell_type": "code",
   "execution_count": null,
   "id": "fb05333c",
   "metadata": {},
   "outputs": [],
   "source": []
  },
  {
   "cell_type": "markdown",
   "id": "78370a86",
   "metadata": {},
   "source": [
    "# 83. MGAP  Maximizing the Gap Symbols of an Optimal Alignment"
   ]
  },
  {
   "cell_type": "markdown",
   "id": "888fbcb9",
   "metadata": {},
   "source": [
    "### Loading Data"
   ]
  },
  {
   "cell_type": "code",
   "execution_count": null,
   "id": "964b5ae8",
   "metadata": {},
   "outputs": [],
   "source": []
  },
  {
   "cell_type": "code",
   "execution_count": null,
   "id": "bab4c9b6",
   "metadata": {},
   "outputs": [],
   "source": []
  },
  {
   "cell_type": "markdown",
   "id": "3712ec3f",
   "metadata": {},
   "source": [
    "# 84. MREP  Identifying Maximal Repeats"
   ]
  },
  {
   "cell_type": "markdown",
   "id": "5fc32cd1",
   "metadata": {},
   "source": [
    "### Loading Data"
   ]
  },
  {
   "cell_type": "code",
   "execution_count": null,
   "id": "7513149a",
   "metadata": {},
   "outputs": [],
   "source": []
  },
  {
   "cell_type": "code",
   "execution_count": null,
   "id": "e0dcce81",
   "metadata": {},
   "outputs": [],
   "source": []
  },
  {
   "cell_type": "markdown",
   "id": "7ff29b1e",
   "metadata": {},
   "source": [
    "# 85. MULT  Multiple Alignment"
   ]
  },
  {
   "cell_type": "markdown",
   "id": "8348ec2f",
   "metadata": {},
   "source": [
    "### Loading Data"
   ]
  },
  {
   "cell_type": "code",
   "execution_count": null,
   "id": "8e5b3fae",
   "metadata": {},
   "outputs": [],
   "source": []
  },
  {
   "cell_type": "code",
   "execution_count": null,
   "id": "903c3478",
   "metadata": {},
   "outputs": [],
   "source": []
  },
  {
   "cell_type": "markdown",
   "id": "7945d311",
   "metadata": {},
   "source": [
    "# 86. PDPL  Creating a Restriction Map"
   ]
  },
  {
   "cell_type": "markdown",
   "id": "484eda2f",
   "metadata": {},
   "source": [
    "### Loading Data"
   ]
  },
  {
   "cell_type": "code",
   "execution_count": null,
   "id": "3ed83b2f",
   "metadata": {},
   "outputs": [],
   "source": []
  },
  {
   "cell_type": "code",
   "execution_count": null,
   "id": "f2ade7a7",
   "metadata": {},
   "outputs": [],
   "source": []
  },
  {
   "cell_type": "markdown",
   "id": "e35dca72",
   "metadata": {},
   "source": [
    "# 87. ROOT  Counting Rooted Binary Trees"
   ]
  },
  {
   "cell_type": "markdown",
   "id": "6a9d3647",
   "metadata": {},
   "source": [
    "### Loading Data"
   ]
  },
  {
   "cell_type": "code",
   "execution_count": null,
   "id": "ea9cabfd",
   "metadata": {},
   "outputs": [],
   "source": []
  },
  {
   "cell_type": "code",
   "execution_count": null,
   "id": "f1762161",
   "metadata": {},
   "outputs": [],
   "source": []
  },
  {
   "cell_type": "markdown",
   "id": "2f693a01",
   "metadata": {},
   "source": [
    "# 88. SEXL  Sex-Linked Inheritance"
   ]
  },
  {
   "cell_type": "markdown",
   "id": "57f7f051",
   "metadata": {},
   "source": [
    "### Loading Data"
   ]
  },
  {
   "cell_type": "code",
   "execution_count": null,
   "id": "6b247aea",
   "metadata": {},
   "outputs": [],
   "source": []
  },
  {
   "cell_type": "code",
   "execution_count": null,
   "id": "dbb52520",
   "metadata": {},
   "outputs": [],
   "source": []
  },
  {
   "cell_type": "markdown",
   "id": "922b7936",
   "metadata": {},
   "source": [
    "# 89. SPTD  Phylogeny Comparison with Split Distance"
   ]
  },
  {
   "cell_type": "markdown",
   "id": "c4b2ef3b",
   "metadata": {},
   "source": [
    "### Loading Data"
   ]
  },
  {
   "cell_type": "code",
   "execution_count": null,
   "id": "bd789895",
   "metadata": {},
   "outputs": [],
   "source": []
  },
  {
   "cell_type": "code",
   "execution_count": null,
   "id": "d680a8b0",
   "metadata": {},
   "outputs": [],
   "source": []
  },
  {
   "cell_type": "markdown",
   "id": "917943bc",
   "metadata": {},
   "source": [
    "# 90. WFMD  The Wright-Fisher Model of Genetic Drift"
   ]
  },
  {
   "cell_type": "markdown",
   "id": "6caef430",
   "metadata": {},
   "source": [
    "### Loading Data"
   ]
  },
  {
   "cell_type": "code",
   "execution_count": null,
   "id": "dd0281ae",
   "metadata": {},
   "outputs": [],
   "source": []
  },
  {
   "cell_type": "code",
   "execution_count": null,
   "id": "7172f56b",
   "metadata": {},
   "outputs": [],
   "source": []
  }
 ],
 "metadata": {},
 "nbformat": 4,
 "nbformat_minor": 5
}
