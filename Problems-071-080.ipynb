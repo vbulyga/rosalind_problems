{
 "cells": [
  {
   "cell_type": "markdown",
   "id": "e0c477f3",
   "metadata": {},
   "source": [
    "# 71. PRSM  Matching a Spectrum to a Protein"
   ]
  },
  {
   "cell_type": "markdown",
   "id": "5edb3d7a",
   "metadata": {},
   "source": [
    "### Loading Data"
   ]
  },
  {
   "cell_type": "code",
   "execution_count": null,
   "id": "af0cbc93",
   "metadata": {},
   "outputs": [],
   "source": []
  },
  {
   "cell_type": "code",
   "execution_count": null,
   "id": "9a7939d8",
   "metadata": {},
   "outputs": [],
   "source": []
  },
  {
   "cell_type": "markdown",
   "id": "9fa90224",
   "metadata": {},
   "source": [
    "# 72. QRT  Quartets"
   ]
  },
  {
   "cell_type": "markdown",
   "id": "717f1c11",
   "metadata": {},
   "source": [
    "### Loading Data"
   ]
  },
  {
   "cell_type": "code",
   "execution_count": null,
   "id": "d46a0636",
   "metadata": {},
   "outputs": [],
   "source": []
  },
  {
   "cell_type": "code",
   "execution_count": null,
   "id": "2f19a381",
   "metadata": {},
   "outputs": [],
   "source": []
  },
  {
   "cell_type": "markdown",
   "id": "8312968e",
   "metadata": {},
   "source": [
    "# 73. SGRA  Using the Spectrum Graph to Infer Peptides"
   ]
  },
  {
   "cell_type": "markdown",
   "id": "c6bee9c9",
   "metadata": {},
   "source": [
    "### Loading Data"
   ]
  },
  {
   "cell_type": "code",
   "execution_count": null,
   "id": "df73159d",
   "metadata": {},
   "outputs": [],
   "source": []
  },
  {
   "cell_type": "code",
   "execution_count": null,
   "id": "916c77b4",
   "metadata": {},
   "outputs": [],
   "source": []
  },
  {
   "cell_type": "markdown",
   "id": "dd8a63da",
   "metadata": {},
   "source": [
    "# 74. SUFF  Encoding Suffix Trees"
   ]
  },
  {
   "cell_type": "markdown",
   "id": "3db51c1b",
   "metadata": {},
   "source": [
    "### Loading Data"
   ]
  },
  {
   "cell_type": "code",
   "execution_count": null,
   "id": "cad41e60",
   "metadata": {},
   "outputs": [],
   "source": []
  },
  {
   "cell_type": "code",
   "execution_count": null,
   "id": "24e5f5c0",
   "metadata": {},
   "outputs": [],
   "source": []
  },
  {
   "cell_type": "markdown",
   "id": "bcb3b2d1",
   "metadata": {},
   "source": [
    "# 75. CHBP  Character-Based Phylogeny"
   ]
  },
  {
   "cell_type": "markdown",
   "id": "394a6590",
   "metadata": {},
   "source": [
    "### Loading Data"
   ]
  },
  {
   "cell_type": "code",
   "execution_count": null,
   "id": "bcdc4d95",
   "metadata": {},
   "outputs": [],
   "source": []
  },
  {
   "cell_type": "code",
   "execution_count": null,
   "id": "7e13ba0b",
   "metadata": {},
   "outputs": [],
   "source": []
  },
  {
   "cell_type": "markdown",
   "id": "ab4e0189",
   "metadata": {},
   "source": [
    "# 76. CNTQ  Counting Quartets"
   ]
  },
  {
   "cell_type": "markdown",
   "id": "0e1a41d5",
   "metadata": {},
   "source": [
    "### Loading Data"
   ]
  },
  {
   "cell_type": "code",
   "execution_count": null,
   "id": "46def7ae",
   "metadata": {},
   "outputs": [],
   "source": []
  },
  {
   "cell_type": "code",
   "execution_count": null,
   "id": "a656ed1a",
   "metadata": {},
   "outputs": [],
   "source": []
  },
  {
   "cell_type": "markdown",
   "id": "cfe0b5eb",
   "metadata": {},
   "source": [
    "# 77. EUBT  Enumerating Unrooted Binary Trees"
   ]
  },
  {
   "cell_type": "markdown",
   "id": "57516e51",
   "metadata": {},
   "source": [
    "### Loading Data"
   ]
  },
  {
   "cell_type": "code",
   "execution_count": null,
   "id": "ccfe996d",
   "metadata": {},
   "outputs": [],
   "source": []
  },
  {
   "cell_type": "code",
   "execution_count": null,
   "id": "75d153ea",
   "metadata": {},
   "outputs": [],
   "source": []
  },
  {
   "cell_type": "markdown",
   "id": "a7033da0",
   "metadata": {},
   "source": [
    "# 78. GASM  Genome Assembly Using Reads"
   ]
  },
  {
   "cell_type": "markdown",
   "id": "5c970639",
   "metadata": {},
   "source": [
    "### Loading Data"
   ]
  },
  {
   "cell_type": "code",
   "execution_count": null,
   "id": "7e9b5ee9",
   "metadata": {},
   "outputs": [],
   "source": []
  },
  {
   "cell_type": "code",
   "execution_count": null,
   "id": "b18de377",
   "metadata": {},
   "outputs": [],
   "source": []
  },
  {
   "cell_type": "markdown",
   "id": "1edf5de1",
   "metadata": {},
   "source": [
    "# 79. GCON  Global Alignment with Constant Gap Penalty"
   ]
  },
  {
   "cell_type": "markdown",
   "id": "9bd84936",
   "metadata": {},
   "source": [
    "### Loading Data"
   ]
  },
  {
   "cell_type": "code",
   "execution_count": null,
   "id": "470d3e9d",
   "metadata": {},
   "outputs": [],
   "source": []
  },
  {
   "cell_type": "code",
   "execution_count": null,
   "id": "0e173664",
   "metadata": {},
   "outputs": [],
   "source": []
  },
  {
   "cell_type": "markdown",
   "id": "741f20db",
   "metadata": {},
   "source": [
    "# 80. LING  Linguistic Complexity of a Genome"
   ]
  },
  {
   "cell_type": "markdown",
   "id": "1a0c3ec6",
   "metadata": {},
   "source": [
    "### Loading Data"
   ]
  },
  {
   "cell_type": "code",
   "execution_count": null,
   "id": "9ee24ffb",
   "metadata": {},
   "outputs": [],
   "source": []
  },
  {
   "cell_type": "code",
   "execution_count": null,
   "id": "9d654cbd",
   "metadata": {},
   "outputs": [],
   "source": []
  }
 ],
 "metadata": {},
 "nbformat": 4,
 "nbformat_minor": 5
}
