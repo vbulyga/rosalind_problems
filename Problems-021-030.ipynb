{
 "cells": [
  {
   "cell_type": "markdown",
   "id": "5d804dd2",
   "metadata": {},
   "source": [
    "# 21. REVP  Locating Restriction Sites"
   ]
  },
  {
   "cell_type": "markdown",
   "id": "45830e8f",
   "metadata": {},
   "source": [
    "### Loading Data"
   ]
  },
  {
   "cell_type": "code",
   "execution_count": 7,
   "id": "ae54ea32-a230-4d01-8c8f-fabdd11a78a3",
   "metadata": {
    "tags": []
   },
   "outputs": [
    {
     "name": "stdout",
     "output_type": "stream",
     "text": [
      "\n",
      "a \n",
      "\n",
      "a\n",
      "as \n",
      "\n",
      "as\n",
      "asd \n",
      "\n",
      "asd\n",
      "asdf \n",
      "\n"
     ]
    }
   ],
   "source": [
    "string = ''\n",
    "for char in 'asdf':\n",
    "    print(string)\n",
    "    string += char\n",
    "    print(string, '\\n')\n",
    "''.join(reversed(string))\n",
    "\n",
    "\n",
    "# dna_list = list(dna_seq)\n",
    "def rev_comp(dna_seq):\n",
    "    comp = ''\n",
    "    for nt in dna_seq:\n",
    "        match nt:\n",
    "            case 'A':\n",
    "                comp += 'T'\n",
    "            case 'C':\n",
    "                comp += 'G'\n",
    "            case 'G':\n",
    "                comp += 'C'\n",
    "            case 'T':\n",
    "                comp += 'A'\n",
    "\n",
    "    rev_comp = ''.join(reversed(comp))\n",
    "    \n",
    "    return rev_comp"
   ]
  },
  {
   "cell_type": "code",
   "execution_count": 54,
   "id": "986772b5",
   "metadata": {
    "tags": []
   },
   "outputs": [
    {
     "name": "stdout",
     "output_type": "stream",
     "text": [
      "Rosalind_9318\n",
      "TATACTCTCGAGGGCCCACCAGTGGCGACTCGGGGTATGAAGGGAACGAGTAACATGGGTGTGCCCAAGCTTGACGAATTCAGTACGTAACGACTCCTCCCTAACCAACCGAGCGAGGGGGATGCCAGGGAGGTTTCATTAAGACCGTCACGCTCTTCGATTGCGCAATTTGAATATGTCCTGCTCCGTACGGCCATTGCATCGGTACCCCGCTCTAGTTGCGAGTCATCTACCTCTCTGCTTACCGGGACTGTACTGTCTCTCCACCCCAGCTCGTCGGTTGTTTAAGAAAGGTCTCACCGGACTATAAGGGTAGAGGTTTGTTTTCTCATCTCTACTGTTTCCACCAAAAAGGTCACCCCATTTGGCATCCTACACCATATTGTCCAACATACTGTAATGCAGGAACTAGTCTACTCGCTTCTGGTTGACGACGGCACGCTATTTTGACGTCGACGTCGTGCGGTGCCCGTGGCAACAAGTATCGTATACATCACAGCGGACGCGGTACTAAGACCGAAAGGGGAGTTGTGACAGCCACCTGCTCCCTGTTCCCTCAACTGATCCCAGCCTTTACTCAATCAGGGAGGCGCGCCACTTGAATGTGGGTCAGCGTTTCCTCACAAAGGACAAGAGGAGTGCCATCGTTTCAGACCCTAGCGGTACCCTTCTTTCGGAGCCTCTCAGAAAGAGATCATGTAGCACAGAGAAACATGACTTTCGGTGTTATGTGTTATTATGAATATACTCTGACCGTAGAGGGTTTGATAGTGACGAGAAGCGAGACGTAATTGATTAACCCCAATATGAACAGACCGCGTTGCATTTTTTTACACAGGCTCTATTCCATCCAATGCCTCTTTAGACACGTTCACTTAAACGAAGCACTGTGACTCTTTACACCTATA \n",
      "\n"
     ]
    }
   ],
   "source": [
    "with open('data/Problems 021-030/rosalind_revp.txt', 'r') as f:\n",
    "# with open('data/Problems 001-010/rosalind_revc.txt', 'r') as f:\n",
    "    fasta = f.read()\n",
    "f.close()\n",
    "fasta = fasta.split('>')\n",
    "fasta = list(filter(lambda x: x != '', fasta))\n",
    "\n",
    "seq_count = len(fasta)\n",
    "\n",
    "names = []\n",
    "seqs = []\n",
    "for i in range(seq_count):\n",
    "    temp = fasta[i].split('\\n')\n",
    "    names.append(temp[0])\n",
    "    seqs.append(''.join(temp[1:]))\n",
    "    \n",
    "    print(names[i])\n",
    "    print(seqs[i], '\\n')"
   ]
  },
  {
   "cell_type": "code",
   "execution_count": 28,
   "id": "e218f343-47f5-44e6-8992-e33c693530be",
   "metadata": {
    "tags": []
   },
   "outputs": [
    {
     "data": {
      "text/plain": [
       "('GCCCC', 'GCTA', 'TGACGTCA')"
      ]
     },
     "execution_count": 28,
     "metadata": {},
     "output_type": "execute_result"
    }
   ],
   "source": [
    "seqs[0][:5], seqs[0][5:9], seqs[0][9:17]"
   ]
  },
  {
   "cell_type": "code",
   "execution_count": 55,
   "id": "5a9da23d",
   "metadata": {
    "collapsed": true,
    "jupyter": {
     "outputs_hidden": true
    },
    "tags": []
   },
   "outputs": [
    {
     "name": "stdout",
     "output_type": "stream",
     "text": [
      "1 4\n",
      "7 6\n",
      "8 4\n",
      "12 6\n",
      "13 4\n",
      "54 4\n",
      "66 8\n",
      "67 6\n",
      "68 4\n",
      "76 6\n",
      "77 4\n",
      "83 4\n",
      "84 6\n",
      "85 4\n",
      "139 4\n",
      "157 4\n",
      "160 10\n",
      "161 8\n",
      "162 6\n",
      "163 4\n",
      "167 4\n",
      "174 4\n",
      "186 8\n",
      "187 6\n",
      "188 4\n",
      "192 4\n",
      "198 4\n",
      "204 6\n",
      "205 4\n",
      "215 4\n",
      "245 4\n",
      "253 4\n",
      "271 4\n",
      "285 4\n",
      "300 4\n",
      "306 4\n",
      "380 4\n",
      "401 4\n",
      "408 6\n",
      "409 4\n",
      "449 6\n",
      "449 12\n",
      "450 4\n",
      "450 10\n",
      "451 8\n",
      "452 6\n",
      "453 4\n",
      "454 8\n",
      "455 6\n",
      "456 4\n",
      "487 6\n",
      "488 4\n",
      "504 4\n",
      "508 4\n",
      "563 4\n",
      "589 8\n",
      "590 4\n",
      "590 6\n",
      "591 4\n",
      "592 4\n",
      "657 4\n",
      "662 6\n",
      "663 4\n",
      "693 4\n",
      "696 4\n",
      "713 4\n",
      "743 4\n",
      "744 4\n",
      "786 4\n",
      "790 4\n",
      "796 4\n",
      "805 4\n",
      "817 4\n",
      "822 4\n",
      "868 4\n",
      "876 4\n",
      "905 4\n"
     ]
    }
   ],
   "source": [
    "# seqs = names\n",
    "min_len = 4\n",
    "max_len = 12\n",
    "palins = []\n",
    "for s in range(seq_count):\n",
    "    for p in range(len(seqs[s])):\n",
    "        for l in range(min_len, max_len + 1):\n",
    "            try:\n",
    "                seqs[s][p+l-1]\n",
    "                sub_seq = seqs[s][p:p+l]\n",
    "                # print(sub_seq, rev_comp(sub_seq))\n",
    "                if sub_seq == rev_comp(sub_seq):\n",
    "                    palins.append([p, l])\n",
    "            except:\n",
    "                # print(p, p+l)\n",
    "                sub_seq = None\n",
    "                break\n",
    "for palin in palins:\n",
    "    # sub_seq = seqs[0][palin[0]:palin[0]+palin[1]]\n",
    "    print(str(palin[0] + 1) + ' ' + str(palin[1]))#, sub_seq)\n",
    "    # print(' ' * len(str(palin[0]) + ' ' + str(palin[1])), rev_comp(sub_seq))"
   ]
  },
  {
   "cell_type": "markdown",
   "id": "76673063",
   "metadata": {},
   "source": [
    "# 22. SPLC  RNA Splicing"
   ]
  },
  {
   "cell_type": "markdown",
   "id": "3e39fa57",
   "metadata": {},
   "source": [
    "### Loading Data"
   ]
  },
  {
   "cell_type": "code",
   "execution_count": 96,
   "id": "e142f6ee",
   "metadata": {
    "tags": []
   },
   "outputs": [
    {
     "name": "stdout",
     "output_type": "stream",
     "text": [
      "Rosalind_5322\n",
      "ATGACGAAGAAAAAACTCCGCGCCCCACAACGACCAAGTTTGGTCCCCTCACTGTTAACCTAGGGAGTGTTGCAAAGGGCTACTGCAAAAGTGGTCTAAGAAAGACTTGCACGCTGGTAGAAGCTAGACTGCGAAGGACGGGGGATGTATCAATTTGCTCACTTTTCACTCCTCGCGGCTACTTACTGACCAGATCAACTAACCCAAGCTGCTGTGCAGGATGCACATCTCGACAGCGTAGACCACAGGGCCCGCATACCGCTGATCAAACCGTTGTGTGCGGTGGTGATTTCATACGTGGTCTTTCTTAGTTCTCCACAACGGGAATGATACCGGAACAGAAGTCCTCCATATCCCGCCGCACTCCCCCGCTCCACATTCACTCTAACCCCAACGTGCTAGGGTGGGGCCACAGTCCGCCGAGATCTAACATCTCGATCCACGGTGGCGGTTCCAACGTGAGCAATCTCTTTCTACGTCCCCAACCTCAGAAGAAATCTTACCTGCCCGCACCGAATTGGGTGGGTATGATCGAGGTTAAAGCCAGAAAATGCGCTAGCCGCTGGACAAGCGCCCGACATTAGCACAGATGGGTACGGAGCAATTAAACACGCTTTGATGCAGCATAGTAGTGGCTCGTGTGTTACTGAGAGTACAGGGTCTTGGTGGCATCCCAAGATCCTTTAAACCCCGCACGCAGCCACCTGATACTACGATTGAAGTAATCGGGTTCGGCTGTCTAGTTAGAACTTTGTCCTTAAAGTGGCAAAATCGCGAGCGGGGAGTAATCGCCTGCGCTGCATCGCAGTATTTATTCCTGAGACCTCAGCGAGATGGTATCCAGCGGCTCGGATGCTCACCAGTCTCTGCCTCCTCTCTTAAGGAGTGGGTGCGAAGCCACTTACATACGTTGTAGGAGTCGCGAGTCCGCTAGCAGCGGGGAGTCACGCGATCGGTATCAGTAGGTTCACTGGGATAG \n",
      "\n",
      "Rosalind_4048\n",
      "GAGAGTACAGGGTCTTGGTGGCATCCCAAGATCCTTT \n",
      "\n",
      "Rosalind_7371\n",
      "TGCCTCCTCTCTTAAGGAGTGGGTGCGAAG \n",
      "\n",
      "Rosalind_4905\n",
      "AGTCCGCCGAGATCTAACATCTCGATCCACGGTGG \n",
      "\n",
      "Rosalind_5947\n",
      "TTTATTCCTGAGACCTCAGCG \n",
      "\n",
      "Rosalind_7473\n",
      "TTGGTCCCCTCACT \n",
      "\n",
      "Rosalind_2823\n",
      "ATCTTACCTGCCCGCACCGAATTGGGTGGGTATGA \n",
      "\n",
      "Rosalind_0129\n",
      "CCAAGCTGCTGTGCAGGATGCACATCTCGACAGC \n",
      "\n",
      "Rosalind_4596\n",
      "AGTTCTCCACAACGGGAATGATA \n",
      "\n",
      "Rosalind_6917\n",
      "ATTCACTCTAACCCC \n",
      "\n",
      "Rosalind_5211\n",
      "GATGGGTACGGAGCAATTAAA \n",
      "\n",
      "Rosalind_3428\n",
      "GGCTACTTACTG \n",
      "\n",
      "Rosalind_5469\n",
      "AGTCCGCTAGCAGCGGGGAGTCACGCGA \n",
      "\n",
      "Rosalind_7252\n",
      "AGAACTTTGTCCTTAAAGTGGCA \n",
      "\n",
      "Rosalind_0103\n",
      "CTAAGAAAGACTTGCACGCTGGTAGAAGCTAGACTGCGA \n",
      "\n",
      "Rosalind_5779\n",
      "CTGATCAAACCGTTGTGTGCGGTGGTGATT \n",
      "\n"
     ]
    }
   ],
   "source": [
    "with open('data/Problems 021-030/rosalind_splc.txt', 'r') as f:\n",
    "    fasta = f.read()\n",
    "f.close()\n",
    "fasta = fasta.split('>')\n",
    "fasta = list(filter(lambda x: x != '', fasta))\n",
    "\n",
    "seq_count = len(fasta)\n",
    "# intron_count = len(fasta) - 1\n",
    "\n",
    "names = []\n",
    "seqs = []\n",
    "for i in range(seq_count):\n",
    "    temp = fasta[i].split('\\n')\n",
    "    names.append(temp[0])\n",
    "    seqs.append(''.join(temp[1:]))\n",
    "    \n",
    "    print(names[i])\n",
    "    print(seqs[i], '\\n')"
   ]
  },
  {
   "cell_type": "code",
   "execution_count": 97,
   "id": "373b980b-fec7-43a9-994d-24574d982c76",
   "metadata": {
    "tags": []
   },
   "outputs": [
    {
     "name": "stdout",
     "output_type": "stream",
     "text": [
      "                                       TTGGTCCCCTCACT\n",
      "ATGACGAAGAAAAAACTCCGCGCCCCACAACGACCAAGT              GTTAACCTAGGGAGTGTTGCAAAGGGCTACTGCAAAAGTGGTCTAAGAAAGACTTGCACGCTGGTAGAAGCTAGACTGCGAAGGACGGGGGATGTATCAATTTGCTCACTTTTCACTCCTCGCGGCTACTTACTGACCAGATCAACTAACCCAAGCTGCTGTGCAGGATGCACATCTCGACAGCGTAGACCACAGGGCCCGCATACCGCTGATCAAACCGTTGTGTGCGGTGGTGATTTCATACGTGGTCTTTCTTAGTTCTCCACAACGGGAATGATACCGGAACAGAAGTCCTCCATATCCCGCCGCACTCCCCCGCTCCACATTCACTCTAACCCCAACGTGCTAGGGTGGGGCCACAGTCCGCCGAGATCTAACATCTCGATCCACGGTGGCGGTTCCAACGTGAGCAATCTCTTTCTACGTCCCCAACCTCAGAAGAAATCTTACCTGCCCGCACCGAATTGGGTGGGTATGATCGAGGTTAAAGCCAGAAAATGCGCTAGCCGCTGGACAAGCGCCCGACATTAGCACAGATGGGTACGGAGCAATTAAACACGCTTTGATGCAGCATAGTAGTGGCTCGTGTGTTACTGAGAGTACAGGGTCTTGGTGGCATCCCAAGATCCTTTAAACCCCGCACGCAGCCACCTGATACTACGATTGAAGTAATCGGGTTCGGCTGTCTAGTTAGAACTTTGTCCTTAAAGTGGCAAAATCGCGAGCGGGGAGTAATCGCCTGCGCTGCATCGCAGTATTTATTCCTGAGACCTCAGCGAGATGGTATCCAGCGGCTCGGATGCTCACCAGTCTCTGCCTCCTCTCTTAAGGAGTGGGTGCGAAGCCACTTACATACGTTGTAGGAGTCGCGAGTCCGCTAGCAGCGGGGAGTCACGCGATCGGTATCAGTAGGTTCACTGGGATAG \n",
      "\n",
      "                                                                                 CTAAGAAAGACTTGCACGCTGGTAGAAGCTAGACTGCGA\n",
      "ATGACGAAGAAAAAACTCCGCGCCCCACAACGACCAAGTGTTAACCTAGGGAGTGTTGCAAAGGGCTACTGCAAAAGTGGT                                       AGGACGGGGGATGTATCAATTTGCTCACTTTTCACTCCTCGCGGCTACTTACTGACCAGATCAACTAACCCAAGCTGCTGTGCAGGATGCACATCTCGACAGCGTAGACCACAGGGCCCGCATACCGCTGATCAAACCGTTGTGTGCGGTGGTGATTTCATACGTGGTCTTTCTTAGTTCTCCACAACGGGAATGATACCGGAACAGAAGTCCTCCATATCCCGCCGCACTCCCCCGCTCCACATTCACTCTAACCCCAACGTGCTAGGGTGGGGCCACAGTCCGCCGAGATCTAACATCTCGATCCACGGTGGCGGTTCCAACGTGAGCAATCTCTTTCTACGTCCCCAACCTCAGAAGAAATCTTACCTGCCCGCACCGAATTGGGTGGGTATGATCGAGGTTAAAGCCAGAAAATGCGCTAGCCGCTGGACAAGCGCCCGACATTAGCACAGATGGGTACGGAGCAATTAAACACGCTTTGATGCAGCATAGTAGTGGCTCGTGTGTTACTGAGAGTACAGGGTCTTGGTGGCATCCCAAGATCCTTTAAACCCCGCACGCAGCCACCTGATACTACGATTGAAGTAATCGGGTTCGGCTGTCTAGTTAGAACTTTGTCCTTAAAGTGGCAAAATCGCGAGCGGGGAGTAATCGCCTGCGCTGCATCGCAGTATTTATTCCTGAGACCTCAGCGAGATGGTATCCAGCGGCTCGGATGCTCACCAGTCTCTGCCTCCTCTCTTAAGGAGTGGGTGCGAAGCCACTTACATACGTTGTAGGAGTCGCGAGTCCGCTAGCAGCGGGGAGTCACGCGATCGGTATCAGTAGGTTCACTGGGATAG \n",
      "\n",
      "                                                                                                                           GGCTACTTACTG\n",
      "ATGACGAAGAAAAAACTCCGCGCCCCACAACGACCAAGTGTTAACCTAGGGAGTGTTGCAAAGGGCTACTGCAAAAGTGGTAGGACGGGGGATGTATCAATTTGCTCACTTTTCACTCCTCGC            ACCAGATCAACTAACCCAAGCTGCTGTGCAGGATGCACATCTCGACAGCGTAGACCACAGGGCCCGCATACCGCTGATCAAACCGTTGTGTGCGGTGGTGATTTCATACGTGGTCTTTCTTAGTTCTCCACAACGGGAATGATACCGGAACAGAAGTCCTCCATATCCCGCCGCACTCCCCCGCTCCACATTCACTCTAACCCCAACGTGCTAGGGTGGGGCCACAGTCCGCCGAGATCTAACATCTCGATCCACGGTGGCGGTTCCAACGTGAGCAATCTCTTTCTACGTCCCCAACCTCAGAAGAAATCTTACCTGCCCGCACCGAATTGGGTGGGTATGATCGAGGTTAAAGCCAGAAAATGCGCTAGCCGCTGGACAAGCGCCCGACATTAGCACAGATGGGTACGGAGCAATTAAACACGCTTTGATGCAGCATAGTAGTGGCTCGTGTGTTACTGAGAGTACAGGGTCTTGGTGGCATCCCAAGATCCTTTAAACCCCGCACGCAGCCACCTGATACTACGATTGAAGTAATCGGGTTCGGCTGTCTAGTTAGAACTTTGTCCTTAAAGTGGCAAAATCGCGAGCGGGGAGTAATCGCCTGCGCTGCATCGCAGTATTTATTCCTGAGACCTCAGCGAGATGGTATCCAGCGGCTCGGATGCTCACCAGTCTCTGCCTCCTCTCTTAAGGAGTGGGTGCGAAGCCACTTACATACGTTGTAGGAGTCGCGAGTCCGCTAGCAGCGGGGAGTCACGCGATCGGTATCAGTAGGTTCACTGGGATAG \n",
      "\n",
      "                                                                                                                                          CCAAGCTGCTGTGCAGGATGCACATCTCGACAGC\n",
      "ATGACGAAGAAAAAACTCCGCGCCCCACAACGACCAAGTGTTAACCTAGGGAGTGTTGCAAAGGGCTACTGCAAAAGTGGTAGGACGGGGGATGTATCAATTTGCTCACTTTTCACTCCTCGCACCAGATCAACTAAC                                  GTAGACCACAGGGCCCGCATACCGCTGATCAAACCGTTGTGTGCGGTGGTGATTTCATACGTGGTCTTTCTTAGTTCTCCACAACGGGAATGATACCGGAACAGAAGTCCTCCATATCCCGCCGCACTCCCCCGCTCCACATTCACTCTAACCCCAACGTGCTAGGGTGGGGCCACAGTCCGCCGAGATCTAACATCTCGATCCACGGTGGCGGTTCCAACGTGAGCAATCTCTTTCTACGTCCCCAACCTCAGAAGAAATCTTACCTGCCCGCACCGAATTGGGTGGGTATGATCGAGGTTAAAGCCAGAAAATGCGCTAGCCGCTGGACAAGCGCCCGACATTAGCACAGATGGGTACGGAGCAATTAAACACGCTTTGATGCAGCATAGTAGTGGCTCGTGTGTTACTGAGAGTACAGGGTCTTGGTGGCATCCCAAGATCCTTTAAACCCCGCACGCAGCCACCTGATACTACGATTGAAGTAATCGGGTTCGGCTGTCTAGTTAGAACTTTGTCCTTAAAGTGGCAAAATCGCGAGCGGGGAGTAATCGCCTGCGCTGCATCGCAGTATTTATTCCTGAGACCTCAGCGAGATGGTATCCAGCGGCTCGGATGCTCACCAGTCTCTGCCTCCTCTCTTAAGGAGTGGGTGCGAAGCCACTTACATACGTTGTAGGAGTCGCGAGTCCGCTAGCAGCGGGGAGTCACGCGATCGGTATCAGTAGGTTCACTGGGATAG \n",
      "\n",
      "                                                                                                                                                                  CTGATCAAACCGTTGTGTGCGGTGGTGATT\n",
      "ATGACGAAGAAAAAACTCCGCGCCCCACAACGACCAAGTGTTAACCTAGGGAGTGTTGCAAAGGGCTACTGCAAAAGTGGTAGGACGGGGGATGTATCAATTTGCTCACTTTTCACTCCTCGCACCAGATCAACTAACGTAGACCACAGGGCCCGCATACCG                              TCATACGTGGTCTTTCTTAGTTCTCCACAACGGGAATGATACCGGAACAGAAGTCCTCCATATCCCGCCGCACTCCCCCGCTCCACATTCACTCTAACCCCAACGTGCTAGGGTGGGGCCACAGTCCGCCGAGATCTAACATCTCGATCCACGGTGGCGGTTCCAACGTGAGCAATCTCTTTCTACGTCCCCAACCTCAGAAGAAATCTTACCTGCCCGCACCGAATTGGGTGGGTATGATCGAGGTTAAAGCCAGAAAATGCGCTAGCCGCTGGACAAGCGCCCGACATTAGCACAGATGGGTACGGAGCAATTAAACACGCTTTGATGCAGCATAGTAGTGGCTCGTGTGTTACTGAGAGTACAGGGTCTTGGTGGCATCCCAAGATCCTTTAAACCCCGCACGCAGCCACCTGATACTACGATTGAAGTAATCGGGTTCGGCTGTCTAGTTAGAACTTTGTCCTTAAAGTGGCAAAATCGCGAGCGGGGAGTAATCGCCTGCGCTGCATCGCAGTATTTATTCCTGAGACCTCAGCGAGATGGTATCCAGCGGCTCGGATGCTCACCAGTCTCTGCCTCCTCTCTTAAGGAGTGGGTGCGAAGCCACTTACATACGTTGTAGGAGTCGCGAGTCCGCTAGCAGCGGGGAGTCACGCGATCGGTATCAGTAGGTTCACTGGGATAG \n",
      "\n",
      "                                                                                                                                                                                    AGTTCTCCACAACGGGAATGATA\n",
      "ATGACGAAGAAAAAACTCCGCGCCCCACAACGACCAAGTGTTAACCTAGGGAGTGTTGCAAAGGGCTACTGCAAAAGTGGTAGGACGGGGGATGTATCAATTTGCTCACTTTTCACTCCTCGCACCAGATCAACTAACGTAGACCACAGGGCCCGCATACCGTCATACGTGGTCTTTCTT                       CCGGAACAGAAGTCCTCCATATCCCGCCGCACTCCCCCGCTCCACATTCACTCTAACCCCAACGTGCTAGGGTGGGGCCACAGTCCGCCGAGATCTAACATCTCGATCCACGGTGGCGGTTCCAACGTGAGCAATCTCTTTCTACGTCCCCAACCTCAGAAGAAATCTTACCTGCCCGCACCGAATTGGGTGGGTATGATCGAGGTTAAAGCCAGAAAATGCGCTAGCCGCTGGACAAGCGCCCGACATTAGCACAGATGGGTACGGAGCAATTAAACACGCTTTGATGCAGCATAGTAGTGGCTCGTGTGTTACTGAGAGTACAGGGTCTTGGTGGCATCCCAAGATCCTTTAAACCCCGCACGCAGCCACCTGATACTACGATTGAAGTAATCGGGTTCGGCTGTCTAGTTAGAACTTTGTCCTTAAAGTGGCAAAATCGCGAGCGGGGAGTAATCGCCTGCGCTGCATCGCAGTATTTATTCCTGAGACCTCAGCGAGATGGTATCCAGCGGCTCGGATGCTCACCAGTCTCTGCCTCCTCTCTTAAGGAGTGGGTGCGAAGCCACTTACATACGTTGTAGGAGTCGCGAGTCCGCTAGCAGCGGGGAGTCACGCGATCGGTATCAGTAGGTTCACTGGGATAG \n",
      "\n",
      "                                                                                                                                                                                                                                 ATTCACTCTAACCCC\n",
      "ATGACGAAGAAAAAACTCCGCGCCCCACAACGACCAAGTGTTAACCTAGGGAGTGTTGCAAAGGGCTACTGCAAAAGTGGTAGGACGGGGGATGTATCAATTTGCTCACTTTTCACTCCTCGCACCAGATCAACTAACGTAGACCACAGGGCCCGCATACCGTCATACGTGGTCTTTCTTCCGGAACAGAAGTCCTCCATATCCCGCCGCACTCCCCCGCTCCAC               AACGTGCTAGGGTGGGGCCACAGTCCGCCGAGATCTAACATCTCGATCCACGGTGGCGGTTCCAACGTGAGCAATCTCTTTCTACGTCCCCAACCTCAGAAGAAATCTTACCTGCCCGCACCGAATTGGGTGGGTATGATCGAGGTTAAAGCCAGAAAATGCGCTAGCCGCTGGACAAGCGCCCGACATTAGCACAGATGGGTACGGAGCAATTAAACACGCTTTGATGCAGCATAGTAGTGGCTCGTGTGTTACTGAGAGTACAGGGTCTTGGTGGCATCCCAAGATCCTTTAAACCCCGCACGCAGCCACCTGATACTACGATTGAAGTAATCGGGTTCGGCTGTCTAGTTAGAACTTTGTCCTTAAAGTGGCAAAATCGCGAGCGGGGAGTAATCGCCTGCGCTGCATCGCAGTATTTATTCCTGAGACCTCAGCGAGATGGTATCCAGCGGCTCGGATGCTCACCAGTCTCTGCCTCCTCTCTTAAGGAGTGGGTGCGAAGCCACTTACATACGTTGTAGGAGTCGCGAGTCCGCTAGCAGCGGGGAGTCACGCGATCGGTATCAGTAGGTTCACTGGGATAG \n",
      "\n",
      "                                                                                                                                                                                                                                                      AGTCCGCCGAGATCTAACATCTCGATCCACGGTGG\n",
      "ATGACGAAGAAAAAACTCCGCGCCCCACAACGACCAAGTGTTAACCTAGGGAGTGTTGCAAAGGGCTACTGCAAAAGTGGTAGGACGGGGGATGTATCAATTTGCTCACTTTTCACTCCTCGCACCAGATCAACTAACGTAGACCACAGGGCCCGCATACCGTCATACGTGGTCTTTCTTCCGGAACAGAAGTCCTCCATATCCCGCCGCACTCCCCCGCTCCACAACGTGCTAGGGTGGGGCCAC                                   CGGTTCCAACGTGAGCAATCTCTTTCTACGTCCCCAACCTCAGAAGAAATCTTACCTGCCCGCACCGAATTGGGTGGGTATGATCGAGGTTAAAGCCAGAAAATGCGCTAGCCGCTGGACAAGCGCCCGACATTAGCACAGATGGGTACGGAGCAATTAAACACGCTTTGATGCAGCATAGTAGTGGCTCGTGTGTTACTGAGAGTACAGGGTCTTGGTGGCATCCCAAGATCCTTTAAACCCCGCACGCAGCCACCTGATACTACGATTGAAGTAATCGGGTTCGGCTGTCTAGTTAGAACTTTGTCCTTAAAGTGGCAAAATCGCGAGCGGGGAGTAATCGCCTGCGCTGCATCGCAGTATTTATTCCTGAGACCTCAGCGAGATGGTATCCAGCGGCTCGGATGCTCACCAGTCTCTGCCTCCTCTCTTAAGGAGTGGGTGCGAAGCCACTTACATACGTTGTAGGAGTCGCGAGTCCGCTAGCAGCGGGGAGTCACGCGATCGGTATCAGTAGGTTCACTGGGATAG \n",
      "\n",
      "                                                                                                                                                                                                                                                                                                      ATCTTACCTGCCCGCACCGAATTGGGTGGGTATGA\n",
      "ATGACGAAGAAAAAACTCCGCGCCCCACAACGACCAAGTGTTAACCTAGGGAGTGTTGCAAAGGGCTACTGCAAAAGTGGTAGGACGGGGGATGTATCAATTTGCTCACTTTTCACTCCTCGCACCAGATCAACTAACGTAGACCACAGGGCCCGCATACCGTCATACGTGGTCTTTCTTCCGGAACAGAAGTCCTCCATATCCCGCCGCACTCCCCCGCTCCACAACGTGCTAGGGTGGGGCCACCGGTTCCAACGTGAGCAATCTCTTTCTACGTCCCCAACCTCAGAAGAA                                   TCGAGGTTAAAGCCAGAAAATGCGCTAGCCGCTGGACAAGCGCCCGACATTAGCACAGATGGGTACGGAGCAATTAAACACGCTTTGATGCAGCATAGTAGTGGCTCGTGTGTTACTGAGAGTACAGGGTCTTGGTGGCATCCCAAGATCCTTTAAACCCCGCACGCAGCCACCTGATACTACGATTGAAGTAATCGGGTTCGGCTGTCTAGTTAGAACTTTGTCCTTAAAGTGGCAAAATCGCGAGCGGGGAGTAATCGCCTGCGCTGCATCGCAGTATTTATTCCTGAGACCTCAGCGAGATGGTATCCAGCGGCTCGGATGCTCACCAGTCTCTGCCTCCTCTCTTAAGGAGTGGGTGCGAAGCCACTTACATACGTTGTAGGAGTCGCGAGTCCGCTAGCAGCGGGGAGTCACGCGATCGGTATCAGTAGGTTCACTGGGATAG \n",
      "\n",
      "                                                                                                                                                                                                                                                                                                                                                               GATGGGTACGGAGCAATTAAA\n",
      "ATGACGAAGAAAAAACTCCGCGCCCCACAACGACCAAGTGTTAACCTAGGGAGTGTTGCAAAGGGCTACTGCAAAAGTGGTAGGACGGGGGATGTATCAATTTGCTCACTTTTCACTCCTCGCACCAGATCAACTAACGTAGACCACAGGGCCCGCATACCGTCATACGTGGTCTTTCTTCCGGAACAGAAGTCCTCCATATCCCGCCGCACTCCCCCGCTCCACAACGTGCTAGGGTGGGGCCACCGGTTCCAACGTGAGCAATCTCTTTCTACGTCCCCAACCTCAGAAGAATCGAGGTTAAAGCCAGAAAATGCGCTAGCCGCTGGACAAGCGCCCGACATTAGCACA                     CACGCTTTGATGCAGCATAGTAGTGGCTCGTGTGTTACTGAGAGTACAGGGTCTTGGTGGCATCCCAAGATCCTTTAAACCCCGCACGCAGCCACCTGATACTACGATTGAAGTAATCGGGTTCGGCTGTCTAGTTAGAACTTTGTCCTTAAAGTGGCAAAATCGCGAGCGGGGAGTAATCGCCTGCGCTGCATCGCAGTATTTATTCCTGAGACCTCAGCGAGATGGTATCCAGCGGCTCGGATGCTCACCAGTCTCTGCCTCCTCTCTTAAGGAGTGGGTGCGAAGCCACTTACATACGTTGTAGGAGTCGCGAGTCCGCTAGCAGCGGGGAGTCACGCGATCGGTATCAGTAGGTTCACTGGGATAG \n",
      "\n",
      "                                                                                                                                                                                                                                                                                                                                                                                                      GAGAGTACAGGGTCTTGGTGGCATCCCAAGATCCTTT\n",
      "ATGACGAAGAAAAAACTCCGCGCCCCACAACGACCAAGTGTTAACCTAGGGAGTGTTGCAAAGGGCTACTGCAAAAGTGGTAGGACGGGGGATGTATCAATTTGCTCACTTTTCACTCCTCGCACCAGATCAACTAACGTAGACCACAGGGCCCGCATACCGTCATACGTGGTCTTTCTTCCGGAACAGAAGTCCTCCATATCCCGCCGCACTCCCCCGCTCCACAACGTGCTAGGGTGGGGCCACCGGTTCCAACGTGAGCAATCTCTTTCTACGTCCCCAACCTCAGAAGAATCGAGGTTAAAGCCAGAAAATGCGCTAGCCGCTGGACAAGCGCCCGACATTAGCACACACGCTTTGATGCAGCATAGTAGTGGCTCGTGTGTTACT                                     AAACCCCGCACGCAGCCACCTGATACTACGATTGAAGTAATCGGGTTCGGCTGTCTAGTTAGAACTTTGTCCTTAAAGTGGCAAAATCGCGAGCGGGGAGTAATCGCCTGCGCTGCATCGCAGTATTTATTCCTGAGACCTCAGCGAGATGGTATCCAGCGGCTCGGATGCTCACCAGTCTCTGCCTCCTCTCTTAAGGAGTGGGTGCGAAGCCACTTACATACGTTGTAGGAGTCGCGAGTCCGCTAGCAGCGGGGAGTCACGCGATCGGTATCAGTAGGTTCACTGGGATAG \n",
      "\n",
      "                                                                                                                                                                                                                                                                                                                                                                                                                                                                  AGAACTTTGTCCTTAAAGTGGCA\n",
      "ATGACGAAGAAAAAACTCCGCGCCCCACAACGACCAAGTGTTAACCTAGGGAGTGTTGCAAAGGGCTACTGCAAAAGTGGTAGGACGGGGGATGTATCAATTTGCTCACTTTTCACTCCTCGCACCAGATCAACTAACGTAGACCACAGGGCCCGCATACCGTCATACGTGGTCTTTCTTCCGGAACAGAAGTCCTCCATATCCCGCCGCACTCCCCCGCTCCACAACGTGCTAGGGTGGGGCCACCGGTTCCAACGTGAGCAATCTCTTTCTACGTCCCCAACCTCAGAAGAATCGAGGTTAAAGCCAGAAAATGCGCTAGCCGCTGGACAAGCGCCCGACATTAGCACACACGCTTTGATGCAGCATAGTAGTGGCTCGTGTGTTACTAAACCCCGCACGCAGCCACCTGATACTACGATTGAAGTAATCGGGTTCGGCTGTCTAGTT                       AAATCGCGAGCGGGGAGTAATCGCCTGCGCTGCATCGCAGTATTTATTCCTGAGACCTCAGCGAGATGGTATCCAGCGGCTCGGATGCTCACCAGTCTCTGCCTCCTCTCTTAAGGAGTGGGTGCGAAGCCACTTACATACGTTGTAGGAGTCGCGAGTCCGCTAGCAGCGGGGAGTCACGCGATCGGTATCAGTAGGTTCACTGGGATAG \n",
      "\n",
      "                                                                                                                                                                                                                                                                                                                                                                                                                                                                                                            TTTATTCCTGAGACCTCAGCG\n",
      "ATGACGAAGAAAAAACTCCGCGCCCCACAACGACCAAGTGTTAACCTAGGGAGTGTTGCAAAGGGCTACTGCAAAAGTGGTAGGACGGGGGATGTATCAATTTGCTCACTTTTCACTCCTCGCACCAGATCAACTAACGTAGACCACAGGGCCCGCATACCGTCATACGTGGTCTTTCTTCCGGAACAGAAGTCCTCCATATCCCGCCGCACTCCCCCGCTCCACAACGTGCTAGGGTGGGGCCACCGGTTCCAACGTGAGCAATCTCTTTCTACGTCCCCAACCTCAGAAGAATCGAGGTTAAAGCCAGAAAATGCGCTAGCCGCTGGACAAGCGCCCGACATTAGCACACACGCTTTGATGCAGCATAGTAGTGGCTCGTGTGTTACTAAACCCCGCACGCAGCCACCTGATACTACGATTGAAGTAATCGGGTTCGGCTGTCTAGTTAAATCGCGAGCGGGGAGTAATCGCCTGCGCTGCATCGCAGTA                     AGATGGTATCCAGCGGCTCGGATGCTCACCAGTCTCTGCCTCCTCTCTTAAGGAGTGGGTGCGAAGCCACTTACATACGTTGTAGGAGTCGCGAGTCCGCTAGCAGCGGGGAGTCACGCGATCGGTATCAGTAGGTTCACTGGGATAG \n",
      "\n",
      "                                                                                                                                                                                                                                                                                                                                                                                                                                                                                                                                                TGCCTCCTCTCTTAAGGAGTGGGTGCGAAG\n",
      "ATGACGAAGAAAAAACTCCGCGCCCCACAACGACCAAGTGTTAACCTAGGGAGTGTTGCAAAGGGCTACTGCAAAAGTGGTAGGACGGGGGATGTATCAATTTGCTCACTTTTCACTCCTCGCACCAGATCAACTAACGTAGACCACAGGGCCCGCATACCGTCATACGTGGTCTTTCTTCCGGAACAGAAGTCCTCCATATCCCGCCGCACTCCCCCGCTCCACAACGTGCTAGGGTGGGGCCACCGGTTCCAACGTGAGCAATCTCTTTCTACGTCCCCAACCTCAGAAGAATCGAGGTTAAAGCCAGAAAATGCGCTAGCCGCTGGACAAGCGCCCGACATTAGCACACACGCTTTGATGCAGCATAGTAGTGGCTCGTGTGTTACTAAACCCCGCACGCAGCCACCTGATACTACGATTGAAGTAATCGGGTTCGGCTGTCTAGTTAAATCGCGAGCGGGGAGTAATCGCCTGCGCTGCATCGCAGTAAGATGGTATCCAGCGGCTCGGATGCTCACCAGTCTC                              CCACTTACATACGTTGTAGGAGTCGCGAGTCCGCTAGCAGCGGGGAGTCACGCGATCGGTATCAGTAGGTTCACTGGGATAG \n",
      "\n",
      "                                                                                                                                                                                                                                                                                                                                                                                                                                                                                                                                                                           AGTCCGCTAGCAGCGGGGAGTCACGCGA\n",
      "ATGACGAAGAAAAAACTCCGCGCCCCACAACGACCAAGTGTTAACCTAGGGAGTGTTGCAAAGGGCTACTGCAAAAGTGGTAGGACGGGGGATGTATCAATTTGCTCACTTTTCACTCCTCGCACCAGATCAACTAACGTAGACCACAGGGCCCGCATACCGTCATACGTGGTCTTTCTTCCGGAACAGAAGTCCTCCATATCCCGCCGCACTCCCCCGCTCCACAACGTGCTAGGGTGGGGCCACCGGTTCCAACGTGAGCAATCTCTTTCTACGTCCCCAACCTCAGAAGAATCGAGGTTAAAGCCAGAAAATGCGCTAGCCGCTGGACAAGCGCCCGACATTAGCACACACGCTTTGATGCAGCATAGTAGTGGCTCGTGTGTTACTAAACCCCGCACGCAGCCACCTGATACTACGATTGAAGTAATCGGGTTCGGCTGTCTAGTTAAATCGCGAGCGGGGAGTAATCGCCTGCGCTGCATCGCAGTAAGATGGTATCCAGCGGCTCGGATGCTCACCAGTCTCCCACTTACATACGTTGTAGGAGTCGCG                            TCGGTATCAGTAGGTTCACTGGGATAG \n",
      "\n"
     ]
    },
    {
     "data": {
      "text/plain": [
       "'AUGACGAAGAAAAAACUCCGCGCCCCACAACGACCAAGUGUUAACCUAGGGAGUGUUGCAAAGGGCUACUGCAAAAGUGGUAGGACGGGGGAUGUAUCAAUUUGCUCACUUUUCACUCCUCGCACCAGAUCAACUAACGUAGACCACAGGGCCCGCAUACCGUCAUACGUGGUCUUUCUUCCGGAACAGAAGUCCUCCAUAUCCCGCCGCACUCCCCCGCUCCACAACGUGCUAGGGUGGGGCCACCGGUUCCAACGUGAGCAAUCUCUUUCUACGUCCCCAACCUCAGAAGAAUCGAGGUUAAAGCCAGAAAAUGCGCUAGCCGCUGGACAAGCGCCCGACAUUAGCACACACGCUUUGAUGCAGCAUAGUAGUGGCUCGUGUGUUACUAAACCCCGCACGCAGCCACCUGAUACUACGAUUGAAGUAAUCGGGUUCGGCUGUCUAGUUAAAUCGCGAGCGGGGAGUAAUCGCCUGCGCUGCAUCGCAGUAAGAUGGUAUCCAGCGGCUCGGAUGCUCACCAGUCUCCCACUUACAUACGUUGUAGGAGUCGCGUCGGUAUCAGUAGGUUCACUGGGAUAG'"
      ]
     },
     "execution_count": 97,
     "metadata": {},
     "output_type": "execute_result"
    }
   ],
   "source": [
    "exons = ''\n",
    "idx_limit = len(seqs[0])\n",
    "start_idx = 0\n",
    "idx = start_idx\n",
    "\n",
    "while(idx < idx_limit):\n",
    "    for i in range(1, seq_count):\n",
    "        intron_len = len(seqs[i])\n",
    "        if seqs[i] == seqs[0][idx:idx+intron_len]:\n",
    "            exons += seqs[0][start_idx:idx]\n",
    "            idx += intron_len\n",
    "            start_idx = idx \n",
    "            print(' ' * len(exons) + seqs[i])\n",
    "            print(exons + ' ' * len(seqs[i]) + seqs[0][idx:], '\\n')\n",
    "    idx += 1\n",
    "exons += seqs[0][start_idx:]\n",
    "rna_exons = exons.replace('T', 'U')\n",
    "rna_exons"
   ]
  },
  {
   "cell_type": "code",
   "execution_count": 92,
   "id": "0435f319-79ff-4805-9751-676dfd03237e",
   "metadata": {
    "tags": []
   },
   "outputs": [],
   "source": [
    "def rna_to_protein(rna_seq):\n",
    "    idx_limit = len(rna_seq) - 2\n",
    "    protein = ''\n",
    "    codon = '---'\n",
    "    idx = 0\n",
    "    while(idx < idx_limit):\n",
    "        try:\n",
    "            codon = rna_seq[idx:idx + 3]\n",
    "            idx += 3\n",
    "        except:\n",
    "            print('error')\n",
    "            break\n",
    "        match codon: \n",
    "            case 'GCU' | 'GCC' | 'GCA' | 'GCG':\n",
    "                protein += 'A'\n",
    "            case 'UGU' | 'UGC':\n",
    "                protein += 'C'\n",
    "            case 'GAU' | 'GAC':\n",
    "                protein += 'D'\n",
    "            case 'GAA' | 'GAG':\n",
    "                protein += 'E'\n",
    "            case 'UUU' | 'UUC':\n",
    "                protein += 'F'\n",
    "            case 'GGU' | 'GGC' | 'GGA' | 'GGG':\n",
    "                protein += 'G'\n",
    "            case 'CAU' | 'CAC':\n",
    "                protein += 'H'\n",
    "            case 'AUU' | 'AUC' | 'AUA':\n",
    "                protein += 'I'\n",
    "            case 'AAA' | 'AAG':\n",
    "                protein += 'K'\n",
    "            case 'UUA' | 'UUG' | 'CUU' | 'CUC' | 'CUA' |'CUG':\n",
    "                protein += 'L'\n",
    "            case 'AUG':\n",
    "                protein += 'M'\n",
    "            case 'AAU' | 'AAC':\n",
    "                protein += 'N'\n",
    "            case 'CCU' | 'CCC' | 'CCA' | 'CCG':\n",
    "                protein += 'P'\n",
    "            case 'CAA' | 'CAG':\n",
    "                protein += 'Q'\n",
    "            case 'CGU' | 'CGC' | 'CGA' | 'CGG' | 'AGA' | 'AGG':\n",
    "                protein += 'R'\n",
    "            case 'UCU' | 'UCC' | 'UCA' | 'UCG' | 'AGU' | 'AGC':\n",
    "                protein += 'S'\n",
    "            case 'ACU' | 'ACC' | 'ACA' | 'ACG':\n",
    "                protein += 'T'\n",
    "            case 'GUU' | 'GUC' | 'GUA' | 'GUG':\n",
    "                protein += 'V'\n",
    "            case 'UGG':\n",
    "                protein += 'W'\n",
    "            case 'UAU' | 'UAC':\n",
    "                protein += 'Y'\n",
    "            case 'UAA' | 'UAG' | 'UGA':\n",
    "                # print('stop')\n",
    "                break\n",
    "    print(idx)\n",
    "    return protein"
   ]
  },
  {
   "cell_type": "code",
   "execution_count": 98,
   "id": "360bbe60-a392-4391-9430-f13b19ccf98e",
   "metadata": {
    "tags": []
   },
   "outputs": [
    {
     "name": "stdout",
     "output_type": "stream",
     "text": [
      "582\n"
     ]
    },
    {
     "data": {
      "text/plain": [
       "'MTKKKLRAPQRPSVNLGSVAKGYCKSGRTGDVSICSLFTPRTRSTNVDHRARIPSYVVFLPEQKSSISRRTPPLHNVLGWGHRFQREQSLSTSPTSEESRLKPENALAAGQAPDISTHALMQHSSGSCVTKPRTQPPDTTIEVIGFGCLVKSRAGSNRLRCIAVRWYPAARMLTSLPLTYVVGVASVSVGSLG'"
      ]
     },
     "execution_count": 98,
     "metadata": {},
     "output_type": "execute_result"
    }
   ],
   "source": [
    "rna_to_protein(rna_exons)"
   ]
  },
  {
   "cell_type": "code",
   "execution_count": 95,
   "id": "083c2ac6",
   "metadata": {
    "tags": []
   },
   "outputs": [
    {
     "name": "stdout",
     "output_type": "stream",
     "text": [
      "75\n",
      "75\n"
     ]
    },
    {
     "data": {
      "text/plain": [
       "('MVYIADKQHVASREAYGHMFKVCA', 'MVYIADKQHVASREAYGHMFKVCA', True)"
      ]
     },
     "execution_count": 95,
     "metadata": {},
     "output_type": "execute_result"
    }
   ],
   "source": [
    "rna_to_protein(rna_exons), 'MVYIADKQHVASREAYGHMFKVCA', rna_to_protein(rna_exons) == 'MVYIADKQHVASREAYGHMFKVCA'"
   ]
  },
  {
   "cell_type": "markdown",
   "id": "463ecfcf",
   "metadata": {},
   "source": [
    "# 23. LEXF  Enumerating k-mers Lexicographically"
   ]
  },
  {
   "cell_type": "markdown",
   "id": "0d2bbcd5",
   "metadata": {},
   "source": [
    "### Loading Data"
   ]
  },
  {
   "cell_type": "code",
   "execution_count": null,
   "id": "c523a946",
   "metadata": {},
   "outputs": [],
   "source": []
  },
  {
   "cell_type": "code",
   "execution_count": null,
   "id": "392f91a3",
   "metadata": {},
   "outputs": [],
   "source": []
  },
  {
   "cell_type": "markdown",
   "id": "1ce9bbb0",
   "metadata": {},
   "source": [
    "# 24. LGIS  Longest Increasing Subsequence"
   ]
  },
  {
   "cell_type": "markdown",
   "id": "d62d6b01",
   "metadata": {},
   "source": [
    "### Loading Data"
   ]
  },
  {
   "cell_type": "code",
   "execution_count": null,
   "id": "71888e86",
   "metadata": {},
   "outputs": [],
   "source": []
  },
  {
   "cell_type": "code",
   "execution_count": null,
   "id": "a4d5ea99",
   "metadata": {},
   "outputs": [],
   "source": []
  },
  {
   "cell_type": "markdown",
   "id": "c7519d9e",
   "metadata": {},
   "source": [
    "# 25. LONG  Genome Assembly as Shortest Superstring"
   ]
  },
  {
   "cell_type": "markdown",
   "id": "c84ba0ff",
   "metadata": {},
   "source": [
    "### Loading Data"
   ]
  },
  {
   "cell_type": "code",
   "execution_count": null,
   "id": "d86830b1",
   "metadata": {},
   "outputs": [],
   "source": []
  },
  {
   "cell_type": "code",
   "execution_count": null,
   "id": "09af7edf",
   "metadata": {},
   "outputs": [],
   "source": []
  },
  {
   "cell_type": "markdown",
   "id": "f711b9a1",
   "metadata": {},
   "source": [
    "# 26. PMCH  Perfect Matchings and RNA Secondary Structures"
   ]
  },
  {
   "cell_type": "markdown",
   "id": "2ac37231",
   "metadata": {},
   "source": [
    "### Loading Data"
   ]
  },
  {
   "cell_type": "code",
   "execution_count": null,
   "id": "11b35a66",
   "metadata": {},
   "outputs": [],
   "source": []
  },
  {
   "cell_type": "code",
   "execution_count": null,
   "id": "71248869",
   "metadata": {},
   "outputs": [],
   "source": []
  },
  {
   "cell_type": "markdown",
   "id": "6e08c643",
   "metadata": {},
   "source": [
    "# 27. PPER  Partial Permutations"
   ]
  },
  {
   "cell_type": "markdown",
   "id": "59a2bde2",
   "metadata": {},
   "source": [
    "### Loading Data"
   ]
  },
  {
   "cell_type": "code",
   "execution_count": null,
   "id": "010aafac",
   "metadata": {},
   "outputs": [],
   "source": []
  },
  {
   "cell_type": "code",
   "execution_count": null,
   "id": "28317a90",
   "metadata": {},
   "outputs": [],
   "source": []
  },
  {
   "cell_type": "markdown",
   "id": "9d4733ad",
   "metadata": {},
   "source": [
    "# 28. PROB  Introduction to Random Strings"
   ]
  },
  {
   "cell_type": "markdown",
   "id": "3f66a089",
   "metadata": {},
   "source": [
    "### Loading Data"
   ]
  },
  {
   "cell_type": "code",
   "execution_count": null,
   "id": "6d088c8a",
   "metadata": {},
   "outputs": [],
   "source": []
  },
  {
   "cell_type": "code",
   "execution_count": null,
   "id": "7a45082b",
   "metadata": {},
   "outputs": [],
   "source": []
  },
  {
   "cell_type": "markdown",
   "id": "08c6ac5e",
   "metadata": {},
   "source": [
    "# 29. SIGN  Enumerating Oriented Gene Orderings"
   ]
  },
  {
   "cell_type": "markdown",
   "id": "a61aaf62",
   "metadata": {},
   "source": [
    "### Loading Data"
   ]
  },
  {
   "cell_type": "code",
   "execution_count": null,
   "id": "78432602",
   "metadata": {},
   "outputs": [],
   "source": []
  },
  {
   "cell_type": "code",
   "execution_count": null,
   "id": "ec0ed21b",
   "metadata": {},
   "outputs": [],
   "source": []
  },
  {
   "cell_type": "markdown",
   "id": "1a9c9bd6",
   "metadata": {},
   "source": [
    "# 30. SSEQ  Finding a Spliced Motif"
   ]
  },
  {
   "cell_type": "code",
   "execution_count": 132,
   "id": "51d66ad7-f4a1-4451-994f-5dc06ee4cbf9",
   "metadata": {
    "collapsed": true,
    "jupyter": {
     "outputs_hidden": true
    },
    "tags": []
   },
   "outputs": [
    {
     "name": "stdout",
     "output_type": "stream",
     "text": [
      "aabd\n",
      "aadb\n",
      "abad\n",
      "abda\n",
      "adab\n",
      "adba\n",
      "aabd\n",
      "aadb\n",
      "abad\n",
      "abda\n",
      "adab\n",
      "adba\n",
      "aabd\n",
      "aadb\n",
      "abad\n",
      "abda\n",
      "adab\n",
      "adba\n",
      "aabd\n",
      "aadb\n",
      "abad\n",
      "abda\n",
      "adab\n",
      "adba\n"
     ]
    }
   ],
   "source": [
    "def lexicographical_permutations(str):\n",
    "    n_fact = 1\n",
    "    for i in range(1, len(str) + 1): n_fact *= i\n",
    "    # there are going to be n ! permutations where n = len(seq)\n",
    "    for p in range(n_fact):         \n",
    "        print(''.join(str))  \n",
    "      \n",
    "        i = len(str) - 1\n",
    "         \n",
    "        # find i such that str[i:] is the largest sequence with\n",
    "        # elements in descending lexicographic order\n",
    "        while i > 0 and str[i-1] > str[i]:       \n",
    "            i -= 1\n",
    "   \n",
    "        # reverse str[i:]\n",
    "        str[i:] = reversed(str[i:]) \n",
    "          \n",
    "   \n",
    "        if i > 0:\n",
    "              \n",
    "            q = i\n",
    "            # find q such that str[q] is the smallest element\n",
    "            # in str[p:] such that str[q] > str[i - 1]\n",
    "            while str[i-1] > str[q]:  \n",
    "                q += 1\n",
    "             \n",
    "            # swap str[i - 1] and str[q]\n",
    "            temp = str[i-1] \n",
    "            str[i-1]= str[q]\n",
    "            str[q]= temp\n",
    "              \n",
    "   \n",
    "s = 'abad'\n",
    "s = list(s)\n",
    "s.sort()\n",
    "lexicographical_permutations(s)"
   ]
  },
  {
   "cell_type": "markdown",
   "id": "6974df44",
   "metadata": {},
   "source": [
    "### Loading Data"
   ]
  },
  {
   "cell_type": "code",
   "execution_count": 12,
   "id": "68134523",
   "metadata": {},
   "outputs": [
    {
     "name": "stdout",
     "output_type": "stream",
     "text": [
      "Rosalind_9223\n",
      "AGCTGTTTCCCTCCCGTTGGAATAGCATGAGGGCAAGAGTTACGTTCTCACCCATCACACTTGTAATTCATCACCTTTCCGCATCCACACGAAATCTTACAGATGACTATCGGTTGTATTACTGCGATTGGTACGGCGCGTCGAAAGGATGCAGGGCTTCCTTACCGTGACGGCTATCTCCCTCAAGAACCAGTTTGAAGGGGCACTATTATCCTGTTACCAGTTACAGTGAGGTTTTCAATGAAGGCCTGCGCCAGATGAATGTGGATCTTGCGGGGCTTCGGACGGTACAGTAAGGTTCTTCCCGTTGTTGCCGGTTCCTATATCGGTTTACTACGGAAATTCATTTACAAGGGGGTATTGTCGGTACGCCGTCTGCGGGATCGTGTGTGATCTAATATGTGTGCAGCCTACTCGAGCACGTAACGACGCACCTATCTTGTCCCGAATCTCTAATGGTTAGGCTCAATATCCGGGCGCTTTAGCGAAAAGGGAGCACCGTAGTCTGGGAATCCCGCCACCAATGTTTTATTTTTAAAGCATTTAAAGAACGAGTGAGTTCAACCGTGCAGTGATTCACAGACTATCGGTAGGAGATACGAAAAACTGTCTTAGGTACAGTTGGCATGGGAAGTTCCAGCCGTTCTAATATACACATGATGTCTTAGATTATTATACCGGTCGGTTGTGAATCGACAAGTTCGTCCGGCGTTACTGCAATCAATGGAGGGAGTTAAGCAGCTCGGCGAGCCAACACTACCTGCCGAGCACGCGAAAGAATCCTGGCCTGCGCTAACGATCCAACATCAATTGAACCGCGCCCGAGACAGAAAGGATGATAAAGT \n",
      "\n",
      "Rosalind_2299\n",
      "TAACTGAAGGCACATGTGGAGCATGAGTGTAA \n",
      "\n"
     ]
    }
   ],
   "source": [
    "with open('data/Problems 021-030/rosalind_sseq.txt', 'r') as f:\n",
    "    fasta = f.read()\n",
    "f.close()\n",
    "fasta = fasta.split('>')\n",
    "fasta = list(filter(lambda x: x != '', fasta))\n",
    "\n",
    "seq_count = len(fasta)\n",
    "# intron_count = len(fasta) - 1\n",
    "\n",
    "names = []\n",
    "seqs = []\n",
    "for i in range(seq_count):\n",
    "    temp = fasta[i].split('\\n')\n",
    "    names.append(temp[0])\n",
    "    seqs.append(''.join(temp[1:]))\n",
    "    \n",
    "    print(names[i])\n",
    "    print(seqs[i], '\\n')"
   ]
  },
  {
   "cell_type": "code",
   "execution_count": 3,
   "id": "e32ee1c8-7021-4803-b7a3-bb834eef7860",
   "metadata": {
    "tags": []
   },
   "outputs": [],
   "source": [
    "from itertools import permutations"
   ]
  },
  {
   "cell_type": "code",
   "execution_count": 16,
   "id": "d08bc4b1-7283-4cce-a9d6-79a678fbac92",
   "metadata": {
    "tags": []
   },
   "outputs": [
    {
     "data": {
      "text/plain": [
       "19404"
      ]
     },
     "execution_count": 16,
     "metadata": {},
     "output_type": "execute_result"
    }
   ],
   "source": [
    "limit = 10000000\n",
    "i = 0\n",
    "my_list = []\n",
    "for perm in permutations(seqs[1]):\n",
    "    if i > limit:\n",
    "        break\n",
    "    my_list.append(''.join(perm))\n",
    "    # print(''.join(perm)[-6:])\n",
    "    i += 1\n",
    "my_list = list(set(my_list))\n",
    "len(my_list)#, my_list"
   ]
  },
  {
   "cell_type": "code",
   "execution_count": 14,
   "id": "1839e126",
   "metadata": {},
   "outputs": [],
   "source": [
    "def permutations(string):\n",
    "    n = len(string)\n",
    "    string = list(string)\n",
    "    factorial = 1\n",
    "    for i in range(1, n + 1): factorial *= i\n",
    "    \n",
    "    permutations = []\n",
    "    \n",
    "    for f in range(factorial):\n",
    "        permutations.append(''.join(string))\n",
    "        \n",
    "        # i is the index such that string[i:] is the largest\n",
    "        # sequence in (numerically/alphabetically) decending order\n",
    "        i = n - 1\n",
    "        while i > 0 and string[i - 1] > string[i]:\n",
    "            i -= 1\n",
    "        string[i:] = reversed(string[i:])\n",
    "        \n",
    "        if i > 0:\n",
    "            # j is the index of the smallest character string[j] in\n",
    "            # the remaining permutations that is > string[i - 1]\n",
    "            j = i\n",
    "            while string[i - 1] > string[j]:\n",
    "                j += 1\n",
    "            temp = string[i - 1]\n",
    "            string[i - 1] = string[j]\n",
    "            string[j] = temp\n",
    "        \n",
    "        if len(permutations) > 10000:\n",
    "            break\n",
    "        \n",
    "    return permutations\n",
    "\n",
    "def find_spliced_motif(seq, motif):\n",
    "    motif_len = len(motif)\n",
    "    idx = 0\n",
    "    idx_limit = len(seq)\n",
    "    orders = [''] + permutations(motif)\n",
    "    locations = []\n",
    "    while(len(locations) < motif_len and orders != []):\n",
    "        locations = []\n",
    "        orders.pop(0)\n",
    "        for m in orders[0]:\n",
    "            while(idx < idx_limit):\n",
    "                if(m == seq[idx]):\n",
    "                    locations.append(idx + 1)\n",
    "                    idx += 1\n",
    "                    break\n",
    "                idx += 1\n",
    "    if motif_len != len(locations) or orders == []:\n",
    "        print('motif not in sequence')\n",
    "        return ' '.join([str(l) for l in locations])\n",
    "\n",
    "    return ' '.join([str(l) for l in locations]), orders[0]"
   ]
  },
  {
   "cell_type": "code",
   "execution_count": 3,
   "id": "b0ae4dec-ce9f-400e-82ca-6e8f81b9b0d1",
   "metadata": {
    "tags": []
   },
   "outputs": [],
   "source": [
    "def get_unique_permutations(dna_sequence):\n",
    "    \"\"\"Generate all unique permutations of a DNA sequence non-recursively.\n",
    "    \n",
    "    Args:\n",
    "        dna_sequence: A string representing a DNA sequence (containing A, T, C, G)\n",
    "        \n",
    "    Returns:\n",
    "        A list of all unique permutations of the input sequence\n",
    "    \"\"\"\n",
    "    if not dna_sequence:\n",
    "        return []\n",
    "    \n",
    "    # Convert to list for easier manipulation\n",
    "    sequence = list(dna_sequence)\n",
    "    n = len(sequence)\n",
    "    result = []\n",
    "    \n",
    "    # Sort the sequence to start with the lexicographically smallest permutation\n",
    "    sequence.sort()\n",
    "    \n",
    "    while True:\n",
    "        # Add the current permutation to the result\n",
    "        result.append(''.join(sequence))\n",
    "        \n",
    "        # Find the largest index i such that sequence[i] < sequence[i+1]\n",
    "        i = n - 2\n",
    "        while i >= 0 and sequence[i] >= sequence[i+1]:\n",
    "            i -= 1\n",
    "            \n",
    "        if i == -1:\n",
    "            break  # All permutations generated\n",
    "            \n",
    "        # Find the largest index j > i such that sequence[j] > sequence[i]\n",
    "        j = n - 1\n",
    "        while sequence[j] <= sequence[i]:\n",
    "            j -= 1\n",
    "            \n",
    "        # Swap sequence[i] and sequence[j]\n",
    "        sequence[i], sequence[j] = sequence[j], sequence[i]\n",
    "        \n",
    "        # Reverse the suffix starting at i+1\n",
    "        sequence[i+1:] = sequence[:i:-1]\n",
    "    \n",
    "    return result"
   ]
  },
  {
   "cell_type": "code",
   "execution_count": 4,
   "id": "bcd32fe7-a3d0-436e-92c6-b6743bca1313",
   "metadata": {
    "tags": []
   },
   "outputs": [
    {
     "name": "stdout",
     "output_type": "stream",
     "text": [
      "1 1\n",
      "2 2\n",
      "3 6\n",
      "4 24\n",
      "5 120\n",
      "6 720\n",
      "7 5040\n",
      "8 40320\n",
      "9 362880\n",
      "10 3628800\n",
      "11 39916800\n",
      "12 479001600\n",
      "13 6227020800\n",
      "14 87178291200\n",
      "15 1307674368000\n"
     ]
    }
   ],
   "source": [
    "n = 15\n",
    "f = 1\n",
    "for i in range(1, n +1):\n",
    "    f *= i\n",
    "    print(i, f)"
   ]
  },
  {
   "cell_type": "code",
   "execution_count": 5,
   "id": "b9bee93b-4e4a-4741-ba23-503efb428f73",
   "metadata": {
    "tags": []
   },
   "outputs": [
    {
     "data": {
      "text/plain": [
       "2522520"
      ]
     },
     "execution_count": 5,
     "metadata": {},
     "output_type": "execute_result"
    }
   ],
   "source": [
    "a = get_unique_permutations(seqs[1][:14])\n",
    "len(a)"
   ]
  },
  {
   "cell_type": "code",
   "execution_count": 7,
   "id": "ee8f9a03-5426-40de-b36b-cc75b1888213",
   "metadata": {
    "tags": []
   },
   "outputs": [
    {
     "data": {
      "text/plain": [
       "39916800"
      ]
     },
     "execution_count": 7,
     "metadata": {},
     "output_type": "execute_result"
    }
   ],
   "source": [
    "b = permutations(seqs[1][:11])\n",
    "len(b)"
   ]
  },
  {
   "cell_type": "code",
   "execution_count": 15,
   "id": "d5b1a11e-d90c-44f7-9c85-85bb99c9f934",
   "metadata": {
    "tags": []
   },
   "outputs": [
    {
     "data": {
      "text/plain": [
       "('4 21 22 26 28 29 30 35 37 39 43 50 51 54 55 63 64 81 91 92 102 107 109 110 112 118 124 128 130 132 133 144',\n",
       " 'TAACTGAAGGCACATGTGGAGCATGAGTGTAA')"
      ]
     },
     "execution_count": 15,
     "metadata": {},
     "output_type": "execute_result"
    }
   ],
   "source": [
    "find_spliced_motif(seqs[0], seqs[1])"
   ]
  }
 ],
 "metadata": {
  "kernelspec": {
   "display_name": "Python 3 (ipykernel)",
   "language": "python",
   "name": "python3"
  },
  "language_info": {
   "codemirror_mode": {
    "name": "ipython",
    "version": 3
   },
   "file_extension": ".py",
   "mimetype": "text/x-python",
   "name": "python",
   "nbconvert_exporter": "python",
   "pygments_lexer": "ipython3",
   "version": "3.11.5"
  }
 },
 "nbformat": 4,
 "nbformat_minor": 5
}
