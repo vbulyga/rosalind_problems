{
 "cells": [
  {
   "cell_type": "markdown",
   "id": "7f32dc92",
   "metadata": {},
   "source": [
    "# 91. ALPH  Alignment-Based Phylogeny"
   ]
  },
  {
   "cell_type": "markdown",
   "id": "66d1d029",
   "metadata": {},
   "source": [
    "### Loading Data"
   ]
  },
  {
   "cell_type": "code",
   "execution_count": null,
   "id": "8bbd6af0",
   "metadata": {},
   "outputs": [],
   "source": []
  },
  {
   "cell_type": "code",
   "execution_count": null,
   "id": "a92d816b",
   "metadata": {},
   "outputs": [],
   "source": []
  },
  {
   "cell_type": "markdown",
   "id": "6647665c",
   "metadata": {},
   "source": [
    "# 92. ASMQ  Assessing Assembly Quality with N50 and N75"
   ]
  },
  {
   "cell_type": "markdown",
   "id": "c2333426",
   "metadata": {},
   "source": [
    "### Loading Data"
   ]
  },
  {
   "cell_type": "code",
   "execution_count": null,
   "id": "c7d1aecf",
   "metadata": {},
   "outputs": [],
   "source": []
  },
  {
   "cell_type": "code",
   "execution_count": null,
   "id": "56a0ea57",
   "metadata": {},
   "outputs": [],
   "source": []
  },
  {
   "cell_type": "markdown",
   "id": "9689135e",
   "metadata": {},
   "source": [
    "# 93. CSET  Fixing an Inconsistent Character Set"
   ]
  },
  {
   "cell_type": "markdown",
   "id": "7636aef9",
   "metadata": {},
   "source": [
    "### Loading Data"
   ]
  },
  {
   "cell_type": "code",
   "execution_count": null,
   "id": "8ba710bd",
   "metadata": {},
   "outputs": [],
   "source": []
  },
  {
   "cell_type": "code",
   "execution_count": null,
   "id": "6a973b44",
   "metadata": {},
   "outputs": [],
   "source": []
  },
  {
   "cell_type": "markdown",
   "id": "1f4ddcc6",
   "metadata": {},
   "source": [
    "# 94. EBIN  Wright-Fisher's Expected Behavior"
   ]
  },
  {
   "cell_type": "markdown",
   "id": "839bae7c",
   "metadata": {},
   "source": [
    "### Loading Data"
   ]
  },
  {
   "cell_type": "code",
   "execution_count": null,
   "id": "b3ea8203",
   "metadata": {},
   "outputs": [],
   "source": []
  },
  {
   "cell_type": "code",
   "execution_count": null,
   "id": "52ffd507",
   "metadata": {},
   "outputs": [],
   "source": []
  },
  {
   "cell_type": "markdown",
   "id": "c8b549cb",
   "metadata": {},
   "source": [
    "# 95. FOUN  The Founder Effect and Genetic Drift"
   ]
  },
  {
   "cell_type": "markdown",
   "id": "2a3367a8",
   "metadata": {},
   "source": [
    "### Loading Data"
   ]
  },
  {
   "cell_type": "code",
   "execution_count": null,
   "id": "a630eedf",
   "metadata": {},
   "outputs": [],
   "source": []
  },
  {
   "cell_type": "code",
   "execution_count": null,
   "id": "9d4ecc6b",
   "metadata": {},
   "outputs": [],
   "source": []
  },
  {
   "cell_type": "markdown",
   "id": "81643da1",
   "metadata": {},
   "source": [
    "# 96. GAFF  Global Alignment with Scoring Matrix and Affine Gap Penalty"
   ]
  },
  {
   "cell_type": "markdown",
   "id": "440f0db7",
   "metadata": {},
   "source": [
    "### Loading Data"
   ]
  },
  {
   "cell_type": "code",
   "execution_count": null,
   "id": "f283835c",
   "metadata": {},
   "outputs": [],
   "source": []
  },
  {
   "cell_type": "code",
   "execution_count": null,
   "id": "b8b9472f",
   "metadata": {},
   "outputs": [],
   "source": []
  },
  {
   "cell_type": "markdown",
   "id": "3f16efaf",
   "metadata": {},
   "source": [
    "# 97. GREP  Genome Assembly with Perfect Coverage and Repeats"
   ]
  },
  {
   "cell_type": "markdown",
   "id": "4c8a2cc4",
   "metadata": {},
   "source": [
    "### Loading Data"
   ]
  },
  {
   "cell_type": "code",
   "execution_count": null,
   "id": "84587f25",
   "metadata": {},
   "outputs": [],
   "source": []
  },
  {
   "cell_type": "code",
   "execution_count": null,
   "id": "1e4f57d1",
   "metadata": {},
   "outputs": [],
   "source": []
  },
  {
   "cell_type": "markdown",
   "id": "37caeaf6",
   "metadata": {},
   "source": [
    "# 98. OAP  Overlap Alignment"
   ]
  },
  {
   "cell_type": "markdown",
   "id": "bb0e4d0b",
   "metadata": {},
   "source": [
    "### Loading Data"
   ]
  },
  {
   "cell_type": "code",
   "execution_count": null,
   "id": "db1df1e3",
   "metadata": {},
   "outputs": [],
   "source": []
  },
  {
   "cell_type": "code",
   "execution_count": null,
   "id": "ba50b7ba",
   "metadata": {},
   "outputs": [],
   "source": []
  },
  {
   "cell_type": "markdown",
   "id": "fb6460a7",
   "metadata": {},
   "source": [
    "# 99. QRTD  Quartet Distance"
   ]
  },
  {
   "cell_type": "markdown",
   "id": "3f233b0f",
   "metadata": {},
   "source": [
    "### Loading Data"
   ]
  },
  {
   "cell_type": "code",
   "execution_count": null,
   "id": "8c65eabc",
   "metadata": {},
   "outputs": [],
   "source": []
  },
  {
   "cell_type": "code",
   "execution_count": null,
   "id": "307b90d6",
   "metadata": {},
   "outputs": [],
   "source": []
  },
  {
   "cell_type": "markdown",
   "id": "18b21cca",
   "metadata": {},
   "source": [
    "# 100. SIMS  Finding a Motif with Modifications"
   ]
  },
  {
   "cell_type": "markdown",
   "id": "7ef74b48",
   "metadata": {},
   "source": [
    "### Loading Data"
   ]
  },
  {
   "cell_type": "code",
   "execution_count": null,
   "id": "81c5d78c",
   "metadata": {},
   "outputs": [],
   "source": []
  },
  {
   "cell_type": "code",
   "execution_count": null,
   "id": "0f755f64",
   "metadata": {},
   "outputs": [],
   "source": []
  }
 ],
 "metadata": {},
 "nbformat": 4,
 "nbformat_minor": 5
}
