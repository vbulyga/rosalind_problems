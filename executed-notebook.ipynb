{
 "cells": [
  {
   "cell_type": "markdown",
   "id": "bc03859a",
   "metadata": {},
   "source": [
    "# My Amazing Notebook"
   ]
  },
  {
   "cell_type": "code",
   "execution_count": 1,
   "id": "c846b002",
   "metadata": {
    "execution": {
     "iopub.execute_input": "2025-03-26T07:16:24.784653Z",
     "iopub.status.busy": "2025-03-26T07:16:24.784653Z",
     "iopub.status.idle": "2025-03-26T07:16:24.793073Z",
     "shell.execute_reply": "2025-03-26T07:16:24.793073Z"
    }
   },
   "outputs": [],
   "source": [
    "a = 13"
   ]
  }
 ],
 "metadata": {
  "kernelspec": {
   "display_name": "Python 3 (ipykernel)",
   "language": "python",
   "name": "python3"
  },
  "language_info": {
   "codemirror_mode": {
    "name": "ipython",
    "version": 3
   },
   "file_extension": ".py",
   "mimetype": "text/x-python",
   "name": "python",
   "nbconvert_exporter": "python",
   "pygments_lexer": "ipython3",
   "version": "3.11.5"
  }
 },
 "nbformat": 4,
 "nbformat_minor": 5
}
