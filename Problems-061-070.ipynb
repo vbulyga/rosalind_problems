{
 "cells": [
  {
   "cell_type": "markdown",
   "id": "37478762",
   "metadata": {},
   "source": [
    "# 61. ITWV  Finding Disjoint Motifs in a Gene"
   ]
  },
  {
   "cell_type": "markdown",
   "id": "8a0d7eb6",
   "metadata": {},
   "source": [
    "### Loading Data"
   ]
  },
  {
   "cell_type": "code",
   "execution_count": null,
   "id": "a55cf6b1",
   "metadata": {},
   "outputs": [],
   "source": []
  },
  {
   "cell_type": "code",
   "execution_count": null,
   "id": "8b7935fa",
   "metadata": {},
   "outputs": [],
   "source": []
  },
  {
   "cell_type": "markdown",
   "id": "99501889",
   "metadata": {},
   "source": [
    "# 62. LREP  Finding the Longest Multiple Repeat"
   ]
  },
  {
   "cell_type": "markdown",
   "id": "bdb91217",
   "metadata": {},
   "source": [
    "### Loading Data"
   ]
  },
  {
   "cell_type": "code",
   "execution_count": null,
   "id": "228faa57",
   "metadata": {},
   "outputs": [],
   "source": []
  },
  {
   "cell_type": "code",
   "execution_count": null,
   "id": "67fcba5a",
   "metadata": {},
   "outputs": [],
   "source": []
  },
  {
   "cell_type": "markdown",
   "id": "624215f8",
   "metadata": {},
   "source": [
    "# 63. NKEW  Newick Format with Edge Weights"
   ]
  },
  {
   "cell_type": "markdown",
   "id": "baab66fc",
   "metadata": {},
   "source": [
    "### Loading Data"
   ]
  },
  {
   "cell_type": "code",
   "execution_count": null,
   "id": "b055306e",
   "metadata": {},
   "outputs": [],
   "source": []
  },
  {
   "cell_type": "code",
   "execution_count": null,
   "id": "15edff9c",
   "metadata": {},
   "outputs": [],
   "source": []
  },
  {
   "cell_type": "markdown",
   "id": "11b12ad3",
   "metadata": {},
   "source": [
    "# 64. RNAS  Wobble Bonding and RNA Secondary Structures"
   ]
  },
  {
   "cell_type": "markdown",
   "id": "c3aeb862",
   "metadata": {},
   "source": [
    "### Loading Data"
   ]
  },
  {
   "cell_type": "code",
   "execution_count": null,
   "id": "5059cb3f",
   "metadata": {},
   "outputs": [],
   "source": []
  },
  {
   "cell_type": "code",
   "execution_count": null,
   "id": "a2c12b08",
   "metadata": {},
   "outputs": [],
   "source": []
  },
  {
   "cell_type": "markdown",
   "id": "cc201214",
   "metadata": {},
   "source": [
    "# 65. AFRQ  Counting Disease Carriers"
   ]
  },
  {
   "cell_type": "markdown",
   "id": "9edcd608",
   "metadata": {},
   "source": [
    "### Loading Data"
   ]
  },
  {
   "cell_type": "code",
   "execution_count": null,
   "id": "4482134a",
   "metadata": {},
   "outputs": [],
   "source": []
  },
  {
   "cell_type": "code",
   "execution_count": null,
   "id": "296a66f4",
   "metadata": {},
   "outputs": [],
   "source": []
  },
  {
   "cell_type": "markdown",
   "id": "cbdd5321",
   "metadata": {},
   "source": [
    "# 66. CSTR  Creating a Character Table from Genetic Strings"
   ]
  },
  {
   "cell_type": "markdown",
   "id": "b6708e8c",
   "metadata": {},
   "source": [
    "### Loading Data"
   ]
  },
  {
   "cell_type": "code",
   "execution_count": null,
   "id": "af1122f1",
   "metadata": {},
   "outputs": [],
   "source": []
  },
  {
   "cell_type": "code",
   "execution_count": null,
   "id": "f83680f5",
   "metadata": {},
   "outputs": [],
   "source": []
  },
  {
   "cell_type": "markdown",
   "id": "c0fe7684",
   "metadata": {},
   "source": [
    "# 67. CTEA  Counting Optimal Alignments"
   ]
  },
  {
   "cell_type": "markdown",
   "id": "305115f3",
   "metadata": {},
   "source": [
    "### Loading Data"
   ]
  },
  {
   "cell_type": "code",
   "execution_count": null,
   "id": "ec884090",
   "metadata": {},
   "outputs": [],
   "source": []
  },
  {
   "cell_type": "code",
   "execution_count": null,
   "id": "4e3abab3",
   "metadata": {},
   "outputs": [],
   "source": []
  },
  {
   "cell_type": "markdown",
   "id": "923da24f",
   "metadata": {},
   "source": [
    "# 68. CUNR  Counting Unrooted Binary Trees"
   ]
  },
  {
   "cell_type": "markdown",
   "id": "ed487e11",
   "metadata": {},
   "source": [
    "### Loading Data"
   ]
  },
  {
   "cell_type": "code",
   "execution_count": null,
   "id": "1608423b",
   "metadata": {},
   "outputs": [],
   "source": []
  },
  {
   "cell_type": "code",
   "execution_count": null,
   "id": "59e5020e",
   "metadata": {},
   "outputs": [],
   "source": []
  },
  {
   "cell_type": "markdown",
   "id": "1fb4c417",
   "metadata": {},
   "source": [
    "# 69. GLOB  Global Alignment with Scoring Matrix"
   ]
  },
  {
   "cell_type": "markdown",
   "id": "9597163c",
   "metadata": {},
   "source": [
    "### Loading Data"
   ]
  },
  {
   "cell_type": "code",
   "execution_count": null,
   "id": "f909ebbc",
   "metadata": {},
   "outputs": [],
   "source": []
  },
  {
   "cell_type": "code",
   "execution_count": null,
   "id": "458ff0fb",
   "metadata": {},
   "outputs": [],
   "source": []
  },
  {
   "cell_type": "markdown",
   "id": "edc8a480",
   "metadata": {},
   "source": [
    "# 70. PCOV  Genome Assembly with Perfect Coverage"
   ]
  },
  {
   "cell_type": "markdown",
   "id": "60704104",
   "metadata": {},
   "source": [
    "### Loading Data"
   ]
  },
  {
   "cell_type": "code",
   "execution_count": null,
   "id": "39a4baf7",
   "metadata": {},
   "outputs": [],
   "source": []
  },
  {
   "cell_type": "code",
   "execution_count": null,
   "id": "9f46435d",
   "metadata": {},
   "outputs": [],
   "source": []
  }
 ],
 "metadata": {},
 "nbformat": 4,
 "nbformat_minor": 5
}
