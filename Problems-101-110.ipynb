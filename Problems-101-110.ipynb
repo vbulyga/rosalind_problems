{
 "cells": [
  {
   "cell_type": "markdown",
   "id": "f9fd5756",
   "metadata": {},
   "source": [
    "# 101. SMGB  Semiglobal Alignment"
   ]
  },
  {
   "cell_type": "markdown",
   "id": "4d3d2ad5",
   "metadata": {},
   "source": [
    "### Loading Data"
   ]
  },
  {
   "cell_type": "code",
   "execution_count": null,
   "id": "f92a4090",
   "metadata": {},
   "outputs": [],
   "source": []
  },
  {
   "cell_type": "code",
   "execution_count": null,
   "id": "1a5ac756",
   "metadata": {},
   "outputs": [],
   "source": []
  },
  {
   "cell_type": "markdown",
   "id": "790573a3",
   "metadata": {},
   "source": [
    "# 102. KSIM  Finding All Similar Motifs"
   ]
  },
  {
   "cell_type": "markdown",
   "id": "93f39e86",
   "metadata": {},
   "source": [
    "### Loading Data"
   ]
  },
  {
   "cell_type": "code",
   "execution_count": null,
   "id": "be102266",
   "metadata": {},
   "outputs": [],
   "source": []
  },
  {
   "cell_type": "code",
   "execution_count": null,
   "id": "0c1504b8",
   "metadata": {},
   "outputs": [],
   "source": []
  },
  {
   "cell_type": "markdown",
   "id": "4fdf4e94",
   "metadata": {},
   "source": [
    "# 103. LAFF  Local Alignment with Affine Gap Penalty"
   ]
  },
  {
   "cell_type": "markdown",
   "id": "18b36377",
   "metadata": {},
   "source": [
    "### Loading Data"
   ]
  },
  {
   "cell_type": "code",
   "execution_count": null,
   "id": "c938afde",
   "metadata": {},
   "outputs": [],
   "source": []
  },
  {
   "cell_type": "code",
   "execution_count": null,
   "id": "b5cf1489",
   "metadata": {},
   "outputs": [],
   "source": []
  },
  {
   "cell_type": "markdown",
   "id": "40be2bae",
   "metadata": {},
   "source": [
    "# 104. OSYM  Isolating Symbols in Alignments"
   ]
  },
  {
   "cell_type": "markdown",
   "id": "943ee644",
   "metadata": {},
   "source": [
    "### Loading Data"
   ]
  },
  {
   "cell_type": "code",
   "execution_count": null,
   "id": "4ac2ce96",
   "metadata": {},
   "outputs": [],
   "source": []
  },
  {
   "cell_type": "code",
   "execution_count": null,
   "id": "f3a8f924",
   "metadata": {},
   "outputs": [],
   "source": []
  },
  {
   "cell_type": "markdown",
   "id": "edbc7305",
   "metadata": {},
   "source": [
    "# 105. RSUB  Identifying Reversing Substitutions"
   ]
  },
  {
   "cell_type": "markdown",
   "id": "af3118b4",
   "metadata": {},
   "source": [
    "### Loading Data"
   ]
  },
  {
   "cell_type": "code",
   "execution_count": null,
   "id": "a7dc3431",
   "metadata": {},
   "outputs": [],
   "source": []
  },
  {
   "cell_type": "code",
   "execution_count": null,
   "id": "566c8d19",
   "metadata": {},
   "outputs": [],
   "source": []
  }
 ],
 "metadata": {},
 "nbformat": 4,
 "nbformat_minor": 5
}
