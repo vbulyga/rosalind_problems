{
 "cells": [
  {
   "cell_type": "markdown",
   "id": "1f30a516",
   "metadata": {},
   "source": [
    "# 11. FIBD  Mortal Fibonacci Rabbits"
   ]
  },
  {
   "cell_type": "markdown",
   "id": "53518a0b",
   "metadata": {},
   "source": [
    "### Loading Data"
   ]
  },
  {
   "cell_type": "code",
   "execution_count": null,
   "id": "723c2985",
   "metadata": {},
   "outputs": [],
   "source": []
  },
  {
   "cell_type": "code",
   "execution_count": null,
   "id": "f68b5876",
   "metadata": {},
   "outputs": [],
   "source": []
  },
  {
   "cell_type": "markdown",
   "id": "7093eaa9",
   "metadata": {},
   "source": [
    "# 12. GRPH  Overlap Graphs"
   ]
  },
  {
   "cell_type": "markdown",
   "id": "d786c7ec",
   "metadata": {},
   "source": [
    "### Loading Data"
   ]
  },
  {
   "cell_type": "code",
   "execution_count": null,
   "id": "c7aac05a",
   "metadata": {},
   "outputs": [],
   "source": []
  },
  {
   "cell_type": "code",
   "execution_count": null,
   "id": "20701353",
   "metadata": {},
   "outputs": [],
   "source": []
  },
  {
   "cell_type": "markdown",
   "id": "f2928a34",
   "metadata": {},
   "source": [
    "# 13. IEV\t  Calculating Expected Offspring"
   ]
  },
  {
   "cell_type": "markdown",
   "id": "430d97f7",
   "metadata": {},
   "source": [
    "### Loading Data"
   ]
  },
  {
   "cell_type": "code",
   "execution_count": null,
   "id": "e51a36e2",
   "metadata": {},
   "outputs": [],
   "source": []
  },
  {
   "cell_type": "code",
   "execution_count": null,
   "id": "213dbc39",
   "metadata": {},
   "outputs": [],
   "source": []
  },
  {
   "cell_type": "markdown",
   "id": "19301aa1",
   "metadata": {},
   "source": [
    "# 14. LCSM  Finding a Shared Motif"
   ]
  },
  {
   "cell_type": "markdown",
   "id": "866e37b3",
   "metadata": {},
   "source": [
    "### Loading Data"
   ]
  },
  {
   "cell_type": "code",
   "execution_count": null,
   "id": "f9d5cba4",
   "metadata": {},
   "outputs": [],
   "source": [
    "with open('data/Problems 011-020/rosalind_lcsm.txt', 'r') as f:\n",
    "    fasta = f.read()\n",
    "f.close()\n",
    "fasta = fasta.split('>')\n",
    "fasta = list(filter(lambda x: x != '', fasta))\n",
    "\n",
    "seq_count = len(fasta)\n",
    "\n",
    "names = []\n",
    "seqs = []\n",
    "for i in range(seq_count):\n",
    "    temp = fasta[i].split('\\n')\n",
    "    names.append(temp[0])\n",
    "    seqs.append(''.join(temp[1:]))\n",
    "    \n",
    "    print(names[i])\n",
    "    print(seqs[i], '\\n')"
   ]
  },
  {
   "cell_type": "code",
   "execution_count": null,
   "id": "a0bf47a3",
   "metadata": {},
   "outputs": [],
   "source": [
    "max_len = 0\n",
    "for seq in seqs:\n",
    "    seq_len = len(seq)\n",
    "    if  > max_len:\n",
    "        max_len = seq_len\n",
    "        idx_long = seqs.index(seq)\n",
    "\n",
    "lcsm = ''\n",
    "for nt in seqs[idx_long]:\n",
    "    "
   ]
  },
  {
   "cell_type": "markdown",
   "id": "71a795a0",
   "metadata": {},
   "source": [
    "# 15. LIA\t  Independent Alleles"
   ]
  },
  {
   "cell_type": "markdown",
   "id": "0d94c3a0",
   "metadata": {},
   "source": [
    "### Loading Data"
   ]
  },
  {
   "cell_type": "code",
   "execution_count": null,
   "id": "0b5b9912",
   "metadata": {},
   "outputs": [],
   "source": []
  },
  {
   "cell_type": "code",
   "execution_count": null,
   "id": "d8850e4f",
   "metadata": {},
   "outputs": [],
   "source": []
  },
  {
   "cell_type": "markdown",
   "id": "5506a8ca",
   "metadata": {},
   "source": [
    "# 16. MPRT  Finding a Protein Motif"
   ]
  },
  {
   "cell_type": "markdown",
   "id": "e07cf9ca",
   "metadata": {},
   "source": [
    "### Loading Data"
   ]
  },
  {
   "cell_type": "code",
   "execution_count": null,
   "id": "d8473aea",
   "metadata": {},
   "outputs": [],
   "source": []
  },
  {
   "cell_type": "code",
   "execution_count": null,
   "id": "a73205f8",
   "metadata": {},
   "outputs": [],
   "source": []
  },
  {
   "cell_type": "markdown",
   "id": "554d21ab",
   "metadata": {},
   "source": [
    "# 17. MRNA  Inferring mRNA from Protein"
   ]
  },
  {
   "cell_type": "markdown",
   "id": "f58a068a",
   "metadata": {},
   "source": [
    "### Loading Data"
   ]
  },
  {
   "cell_type": "code",
   "execution_count": null,
   "id": "9fb0ef88",
   "metadata": {},
   "outputs": [],
   "source": []
  },
  {
   "cell_type": "code",
   "execution_count": null,
   "id": "d41c205f",
   "metadata": {},
   "outputs": [],
   "source": []
  },
  {
   "cell_type": "markdown",
   "id": "dfed0516",
   "metadata": {},
   "source": [
    "# 18. ORF  Open Reading Frames"
   ]
  },
  {
   "cell_type": "markdown",
   "id": "1d31cd5a",
   "metadata": {},
   "source": [
    "### Loading Data"
   ]
  },
  {
   "cell_type": "code",
   "execution_count": null,
   "id": "476d8526",
   "metadata": {},
   "outputs": [],
   "source": []
  },
  {
   "cell_type": "code",
   "execution_count": null,
   "id": "34cd2fbd",
   "metadata": {},
   "outputs": [],
   "source": []
  },
  {
   "cell_type": "markdown",
   "id": "0f83d645",
   "metadata": {},
   "source": [
    "# 19. PERM  Enumerating Gene Orders"
   ]
  },
  {
   "cell_type": "markdown",
   "id": "18bea7a5",
   "metadata": {},
   "source": [
    "### Loading Data"
   ]
  },
  {
   "cell_type": "code",
   "execution_count": null,
   "id": "272a3ddf",
   "metadata": {},
   "outputs": [],
   "source": []
  },
  {
   "cell_type": "code",
   "execution_count": null,
   "id": "ef81ea2a",
   "metadata": {},
   "outputs": [],
   "source": []
  },
  {
   "cell_type": "markdown",
   "id": "0e945f1d",
   "metadata": {},
   "source": [
    "# 20. PRTM  Calculating Protein Mass"
   ]
  },
  {
   "cell_type": "markdown",
   "id": "7866abd6",
   "metadata": {},
   "source": [
    "### Loading Data"
   ]
  },
  {
   "cell_type": "code",
   "execution_count": null,
   "id": "e3955b4e",
   "metadata": {},
   "outputs": [],
   "source": []
  },
  {
   "cell_type": "code",
   "execution_count": null,
   "id": "52664fb8",
   "metadata": {},
   "outputs": [],
   "source": []
  }
 ],
 "metadata": {
  "kernelspec": {
   "display_name": "Python 3 (ipykernel)",
   "language": "python",
   "name": "python3"
  },
  "language_info": {
   "codemirror_mode": {
    "name": "ipython",
    "version": 3
   },
   "file_extension": ".py",
   "mimetype": "text/x-python",
   "name": "python",
   "nbconvert_exporter": "python",
   "pygments_lexer": "ipython3",
   "version": "3.11.5"
  }
 },
 "nbformat": 4,
 "nbformat_minor": 5
}
