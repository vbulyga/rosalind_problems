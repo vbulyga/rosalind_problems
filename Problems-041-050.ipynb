{
 "cells": [
  {
   "cell_type": "markdown",
   "id": "88aab404",
   "metadata": {},
   "source": [
    "# 41. PDST  Creating a Distance Matrix"
   ]
  },
  {
   "cell_type": "markdown",
   "id": "2ef0d94c",
   "metadata": {},
   "source": [
    "### Loading Data"
   ]
  },
  {
   "cell_type": "code",
   "execution_count": null,
   "id": "971e9bda",
   "metadata": {},
   "outputs": [],
   "source": []
  },
  {
   "cell_type": "code",
   "execution_count": null,
   "id": "27b9897c",
   "metadata": {},
   "outputs": [],
   "source": []
  },
  {
   "cell_type": "markdown",
   "id": "3685f522",
   "metadata": {},
   "source": [
    "# 42. REAR  Reversal Distance"
   ]
  },
  {
   "cell_type": "markdown",
   "id": "eea365ac",
   "metadata": {},
   "source": [
    "### Loading Data"
   ]
  },
  {
   "cell_type": "code",
   "execution_count": null,
   "id": "ff95cce8",
   "metadata": {},
   "outputs": [],
   "source": []
  },
  {
   "cell_type": "code",
   "execution_count": null,
   "id": "8e08fe7f",
   "metadata": {},
   "outputs": [],
   "source": []
  },
  {
   "cell_type": "markdown",
   "id": "5544c94b",
   "metadata": {},
   "source": [
    "# 43. RSTR  Matching Random Motifs"
   ]
  },
  {
   "cell_type": "markdown",
   "id": "2d2c9f43",
   "metadata": {},
   "source": [
    "### Loading Data"
   ]
  },
  {
   "cell_type": "code",
   "execution_count": null,
   "id": "1767c899",
   "metadata": {},
   "outputs": [],
   "source": []
  },
  {
   "cell_type": "code",
   "execution_count": null,
   "id": "d45983c2",
   "metadata": {},
   "outputs": [],
   "source": []
  },
  {
   "cell_type": "markdown",
   "id": "2ad5d56c",
   "metadata": {},
   "source": [
    "# 44. SSET  Counting Subsets"
   ]
  },
  {
   "cell_type": "markdown",
   "id": "5b576a30",
   "metadata": {},
   "source": [
    "### Loading Data"
   ]
  },
  {
   "cell_type": "code",
   "execution_count": null,
   "id": "5dd7efd9",
   "metadata": {},
   "outputs": [],
   "source": []
  },
  {
   "cell_type": "code",
   "execution_count": null,
   "id": "fcbdf9b3",
   "metadata": {},
   "outputs": [],
   "source": []
  },
  {
   "cell_type": "markdown",
   "id": "fe5832b2",
   "metadata": {},
   "source": [
    "# 45. ASPC  Introduction to Alternative Splicing"
   ]
  },
  {
   "cell_type": "markdown",
   "id": "4f8eb88f",
   "metadata": {},
   "source": [
    "### Loading Data"
   ]
  },
  {
   "cell_type": "code",
   "execution_count": null,
   "id": "028d397b",
   "metadata": {},
   "outputs": [],
   "source": []
  },
  {
   "cell_type": "code",
   "execution_count": null,
   "id": "eaf3989d",
   "metadata": {},
   "outputs": [],
   "source": []
  },
  {
   "cell_type": "markdown",
   "id": "060cafe0",
   "metadata": {},
   "source": [
    "# 46. EDIT  Edit Distance"
   ]
  },
  {
   "cell_type": "markdown",
   "id": "d76b2cdd",
   "metadata": {},
   "source": [
    "### Loading Data"
   ]
  },
  {
   "cell_type": "code",
   "execution_count": null,
   "id": "20386dc8",
   "metadata": {},
   "outputs": [],
   "source": []
  },
  {
   "cell_type": "code",
   "execution_count": null,
   "id": "3f4d920b",
   "metadata": {},
   "outputs": [],
   "source": []
  },
  {
   "cell_type": "markdown",
   "id": "707b5c37",
   "metadata": {},
   "source": [
    "# 47. EVAL  Expected Number of Restriction Sites"
   ]
  },
  {
   "cell_type": "markdown",
   "id": "4b261b77",
   "metadata": {},
   "source": [
    "### Loading Data"
   ]
  },
  {
   "cell_type": "code",
   "execution_count": null,
   "id": "9c5d56a5",
   "metadata": {},
   "outputs": [],
   "source": []
  },
  {
   "cell_type": "code",
   "execution_count": null,
   "id": "90f27ff9",
   "metadata": {},
   "outputs": [],
   "source": []
  },
  {
   "cell_type": "markdown",
   "id": "6df97e9d",
   "metadata": {},
   "source": [
    "# 48. MOTZ  Motzkin Numbers and RNA Secondary Structures"
   ]
  },
  {
   "cell_type": "markdown",
   "id": "c1db1878",
   "metadata": {},
   "source": [
    "### Loading Data"
   ]
  },
  {
   "cell_type": "code",
   "execution_count": null,
   "id": "60feaaf3",
   "metadata": {},
   "outputs": [],
   "source": []
  },
  {
   "cell_type": "code",
   "execution_count": null,
   "id": "4167fb1f",
   "metadata": {},
   "outputs": [],
   "source": []
  },
  {
   "cell_type": "markdown",
   "id": "fd3a6cba",
   "metadata": {},
   "source": [
    "# 49. NWCK  Distances in Trees"
   ]
  },
  {
   "cell_type": "markdown",
   "id": "76cd498a",
   "metadata": {},
   "source": [
    "### Loading Data"
   ]
  },
  {
   "cell_type": "code",
   "execution_count": null,
   "id": "c649108b",
   "metadata": {},
   "outputs": [],
   "source": []
  },
  {
   "cell_type": "code",
   "execution_count": null,
   "id": "d20c241f",
   "metadata": {},
   "outputs": [],
   "source": []
  },
  {
   "cell_type": "markdown",
   "id": "661d49de",
   "metadata": {},
   "source": [
    "# 50. SCSP  Interleaving Two Motifs"
   ]
  },
  {
   "cell_type": "markdown",
   "id": "262001ac",
   "metadata": {},
   "source": [
    "### Loading Data"
   ]
  },
  {
   "cell_type": "code",
   "execution_count": null,
   "id": "ce87a360",
   "metadata": {},
   "outputs": [],
   "source": []
  },
  {
   "cell_type": "code",
   "execution_count": null,
   "id": "c6c4d817",
   "metadata": {},
   "outputs": [],
   "source": []
  }
 ],
 "metadata": {},
 "nbformat": 4,
 "nbformat_minor": 5
}
