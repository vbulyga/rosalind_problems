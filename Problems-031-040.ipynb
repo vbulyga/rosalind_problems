{
 "cells": [
  {
   "cell_type": "markdown",
   "id": "bd2b121f",
   "metadata": {},
   "source": [
    "# 31. TRAN  Transitions and Transversions"
   ]
  },
  {
   "cell_type": "markdown",
   "id": "171e81b8",
   "metadata": {},
   "source": [
    "### Loading Data"
   ]
  },
  {
   "cell_type": "code",
   "execution_count": null,
   "id": "72894c7e",
   "metadata": {},
   "outputs": [],
   "source": []
  },
  {
   "cell_type": "code",
   "execution_count": null,
   "id": "c60a6244",
   "metadata": {},
   "outputs": [],
   "source": []
  },
  {
   "cell_type": "markdown",
   "id": "10cfc698",
   "metadata": {},
   "source": [
    "# 32. TREE  Completing a Tree"
   ]
  },
  {
   "cell_type": "markdown",
   "id": "1295a7cd",
   "metadata": {},
   "source": [
    "### Loading Data"
   ]
  },
  {
   "cell_type": "code",
   "execution_count": null,
   "id": "99cddba2",
   "metadata": {},
   "outputs": [],
   "source": []
  },
  {
   "cell_type": "code",
   "execution_count": null,
   "id": "6365cf97",
   "metadata": {},
   "outputs": [],
   "source": []
  },
  {
   "cell_type": "markdown",
   "id": "6e29daaa",
   "metadata": {},
   "source": [
    "# 33. CAT  Catalan Numbers and RNA Secondary Structures"
   ]
  },
  {
   "cell_type": "markdown",
   "id": "0017fad7",
   "metadata": {},
   "source": [
    "### Loading Data"
   ]
  },
  {
   "cell_type": "code",
   "execution_count": null,
   "id": "bc21d3b4",
   "metadata": {},
   "outputs": [],
   "source": []
  },
  {
   "cell_type": "code",
   "execution_count": null,
   "id": "00327df8",
   "metadata": {},
   "outputs": [],
   "source": []
  },
  {
   "cell_type": "markdown",
   "id": "510f2a34",
   "metadata": {},
   "source": [
    "# 34. CORR  Error Correction in Reads"
   ]
  },
  {
   "cell_type": "markdown",
   "id": "61bccf55",
   "metadata": {},
   "source": [
    "### Loading Data"
   ]
  },
  {
   "cell_type": "code",
   "execution_count": null,
   "id": "df367ff8",
   "metadata": {},
   "outputs": [],
   "source": []
  },
  {
   "cell_type": "code",
   "execution_count": null,
   "id": "92e0752a",
   "metadata": {},
   "outputs": [],
   "source": []
  },
  {
   "cell_type": "markdown",
   "id": "9790878c",
   "metadata": {},
   "source": [
    "# 35. INOD  Counting Phylogenetic Ancestors"
   ]
  },
  {
   "cell_type": "markdown",
   "id": "e629f2f3",
   "metadata": {},
   "source": [
    "### Loading Data"
   ]
  },
  {
   "cell_type": "code",
   "execution_count": null,
   "id": "b588ae06",
   "metadata": {},
   "outputs": [],
   "source": []
  },
  {
   "cell_type": "code",
   "execution_count": null,
   "id": "45701f47",
   "metadata": {},
   "outputs": [],
   "source": []
  },
  {
   "cell_type": "markdown",
   "id": "6c92576c",
   "metadata": {},
   "source": [
    "# 36. KMER  k-Mer Composition"
   ]
  },
  {
   "cell_type": "markdown",
   "id": "7dcb8250",
   "metadata": {},
   "source": [
    "### Loading Data"
   ]
  },
  {
   "cell_type": "code",
   "execution_count": null,
   "id": "508b44ec",
   "metadata": {},
   "outputs": [],
   "source": []
  },
  {
   "cell_type": "code",
   "execution_count": null,
   "id": "fcba46c9",
   "metadata": {},
   "outputs": [],
   "source": []
  },
  {
   "cell_type": "markdown",
   "id": "2fe307c5",
   "metadata": {},
   "source": [
    "# 37. KMP  Speeding Up Motif Finding"
   ]
  },
  {
   "cell_type": "markdown",
   "id": "c1016560",
   "metadata": {},
   "source": [
    "### Loading Data"
   ]
  },
  {
   "cell_type": "code",
   "execution_count": null,
   "id": "57ebdd00",
   "metadata": {},
   "outputs": [],
   "source": []
  },
  {
   "cell_type": "code",
   "execution_count": null,
   "id": "a4474759",
   "metadata": {},
   "outputs": [],
   "source": []
  },
  {
   "cell_type": "markdown",
   "id": "4348c1dc",
   "metadata": {},
   "source": [
    "# 38. LCSQ  Finding a Shared Spliced Motif"
   ]
  },
  {
   "cell_type": "markdown",
   "id": "b6c31347",
   "metadata": {},
   "source": [
    "### Loading Data"
   ]
  },
  {
   "cell_type": "code",
   "execution_count": null,
   "id": "95882722",
   "metadata": {},
   "outputs": [],
   "source": []
  },
  {
   "cell_type": "code",
   "execution_count": null,
   "id": "3ad86bd3",
   "metadata": {},
   "outputs": [],
   "source": []
  },
  {
   "cell_type": "markdown",
   "id": "e29d55a9",
   "metadata": {},
   "source": [
    "# 39. LEXV  Ordering Strings of Varying Length Lexicographically"
   ]
  },
  {
   "cell_type": "markdown",
   "id": "9291a5d4",
   "metadata": {},
   "source": [
    "### Loading Data"
   ]
  },
  {
   "cell_type": "code",
   "execution_count": null,
   "id": "03b62582",
   "metadata": {},
   "outputs": [],
   "source": []
  },
  {
   "cell_type": "code",
   "execution_count": null,
   "id": "b84ae4c8",
   "metadata": {},
   "outputs": [],
   "source": []
  },
  {
   "cell_type": "markdown",
   "id": "247f1345",
   "metadata": {},
   "source": [
    "# 40. MMCH  Maximum Matchings and RNA Secondary Structures"
   ]
  },
  {
   "cell_type": "markdown",
   "id": "c95c974f",
   "metadata": {},
   "source": [
    "### Loading Data"
   ]
  },
  {
   "cell_type": "code",
   "execution_count": null,
   "id": "e2f6eb50",
   "metadata": {},
   "outputs": [],
   "source": []
  },
  {
   "cell_type": "code",
   "execution_count": null,
   "id": "c4faf310",
   "metadata": {},
   "outputs": [],
   "source": []
  }
 ],
 "metadata": {
  "kernelspec": {
   "display_name": "Python 3 (ipykernel)",
   "language": "python",
   "name": "python3"
  },
  "language_info": {
   "codemirror_mode": {
    "name": "ipython",
    "version": 3
   },
   "file_extension": ".py",
   "mimetype": "text/x-python",
   "name": "python",
   "nbconvert_exporter": "python",
   "pygments_lexer": "ipython3",
   "version": "3.11.5"
  }
 },
 "nbformat": 4,
 "nbformat_minor": 5
}
