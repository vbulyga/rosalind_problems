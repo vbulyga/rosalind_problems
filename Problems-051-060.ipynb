{
 "cells": [
  {
   "cell_type": "markdown",
   "id": "28ce6305",
   "metadata": {},
   "source": [
    "# 51. SETO  Introduction to Set Operations"
   ]
  },
  {
   "cell_type": "markdown",
   "id": "2f35f9d8",
   "metadata": {},
   "source": [
    "### Loading Data"
   ]
  },
  {
   "cell_type": "code",
   "execution_count": null,
   "id": "1a2c358d",
   "metadata": {},
   "outputs": [],
   "source": []
  },
  {
   "cell_type": "code",
   "execution_count": null,
   "id": "57949006",
   "metadata": {},
   "outputs": [],
   "source": []
  },
  {
   "cell_type": "markdown",
   "id": "82086f3a",
   "metadata": {},
   "source": [
    "# 52. SORT  Sorting by Reversals"
   ]
  },
  {
   "cell_type": "markdown",
   "id": "35cf8038",
   "metadata": {},
   "source": [
    "### Loading Data"
   ]
  },
  {
   "cell_type": "code",
   "execution_count": null,
   "id": "7c8d174f",
   "metadata": {},
   "outputs": [],
   "source": []
  },
  {
   "cell_type": "code",
   "execution_count": null,
   "id": "95bd4c29",
   "metadata": {},
   "outputs": [],
   "source": []
  },
  {
   "cell_type": "markdown",
   "id": "7b0cc357",
   "metadata": {},
   "source": [
    "# 53. SPEC  Inferring Protein from Spectrum"
   ]
  },
  {
   "cell_type": "markdown",
   "id": "76bd7278",
   "metadata": {},
   "source": [
    "### Loading Data"
   ]
  },
  {
   "cell_type": "code",
   "execution_count": null,
   "id": "fa5843a7",
   "metadata": {},
   "outputs": [],
   "source": []
  },
  {
   "cell_type": "code",
   "execution_count": null,
   "id": "24b86873",
   "metadata": {},
   "outputs": [],
   "source": []
  },
  {
   "cell_type": "markdown",
   "id": "cf62d6ce",
   "metadata": {},
   "source": [
    "# 54. TRIE  Introduction to Pattern Matching"
   ]
  },
  {
   "cell_type": "markdown",
   "id": "75aa458a",
   "metadata": {},
   "source": [
    "### Loading Data"
   ]
  },
  {
   "cell_type": "code",
   "execution_count": null,
   "id": "7ac40be5",
   "metadata": {},
   "outputs": [],
   "source": []
  },
  {
   "cell_type": "code",
   "execution_count": null,
   "id": "9e0abc69",
   "metadata": {},
   "outputs": [],
   "source": []
  },
  {
   "cell_type": "markdown",
   "id": "22aaae37",
   "metadata": {},
   "source": [
    "# 55. CONV  Comparing Spectra with the Spectral Convolution"
   ]
  },
  {
   "cell_type": "markdown",
   "id": "0bd7c6bb",
   "metadata": {},
   "source": [
    "### Loading Data"
   ]
  },
  {
   "cell_type": "code",
   "execution_count": null,
   "id": "48c932ce",
   "metadata": {},
   "outputs": [],
   "source": []
  },
  {
   "cell_type": "code",
   "execution_count": null,
   "id": "a4667fbd",
   "metadata": {},
   "outputs": [],
   "source": []
  },
  {
   "cell_type": "markdown",
   "id": "8395ddd7",
   "metadata": {},
   "source": [
    "# 56. CTBL  Creating a Character Table"
   ]
  },
  {
   "cell_type": "markdown",
   "id": "0c34fb04",
   "metadata": {},
   "source": [
    "### Loading Data"
   ]
  },
  {
   "cell_type": "code",
   "execution_count": null,
   "id": "f26d1307",
   "metadata": {},
   "outputs": [],
   "source": []
  },
  {
   "cell_type": "code",
   "execution_count": null,
   "id": "b44bce68",
   "metadata": {},
   "outputs": [],
   "source": []
  },
  {
   "cell_type": "markdown",
   "id": "411532dc",
   "metadata": {},
   "source": [
    "# 57. DBRU  Constructing a De Bruijn Graph"
   ]
  },
  {
   "cell_type": "markdown",
   "id": "6630f632",
   "metadata": {},
   "source": [
    "### Loading Data"
   ]
  },
  {
   "cell_type": "code",
   "execution_count": null,
   "id": "e845eaf4",
   "metadata": {},
   "outputs": [],
   "source": []
  },
  {
   "cell_type": "code",
   "execution_count": null,
   "id": "0723a553",
   "metadata": {},
   "outputs": [],
   "source": []
  },
  {
   "cell_type": "markdown",
   "id": "42cc119c",
   "metadata": {},
   "source": [
    "# 58. EDTA  Edit Distance Alignment"
   ]
  },
  {
   "cell_type": "markdown",
   "id": "f8972338",
   "metadata": {},
   "source": [
    "### Loading Data"
   ]
  },
  {
   "cell_type": "code",
   "execution_count": null,
   "id": "cfe5c036",
   "metadata": {},
   "outputs": [],
   "source": []
  },
  {
   "cell_type": "code",
   "execution_count": null,
   "id": "511590c0",
   "metadata": {},
   "outputs": [],
   "source": []
  },
  {
   "cell_type": "markdown",
   "id": "3b666e59",
   "metadata": {},
   "source": [
    "# 59. FULL  Inferring Peptide from Full Spectrum"
   ]
  },
  {
   "cell_type": "markdown",
   "id": "0b384f88",
   "metadata": {},
   "source": [
    "### Loading Data"
   ]
  },
  {
   "cell_type": "code",
   "execution_count": null,
   "id": "1221af5c",
   "metadata": {},
   "outputs": [],
   "source": []
  },
  {
   "cell_type": "code",
   "execution_count": null,
   "id": "4784eb14",
   "metadata": {},
   "outputs": [],
   "source": []
  },
  {
   "cell_type": "markdown",
   "id": "fb954576",
   "metadata": {},
   "source": [
    "# 60. INDC  Independent Segregation of Chromosomes"
   ]
  },
  {
   "cell_type": "markdown",
   "id": "ec3c7581",
   "metadata": {},
   "source": [
    "### Loading Data"
   ]
  },
  {
   "cell_type": "code",
   "execution_count": null,
   "id": "2f58a646",
   "metadata": {},
   "outputs": [],
   "source": []
  },
  {
   "cell_type": "code",
   "execution_count": null,
   "id": "40d5c842",
   "metadata": {},
   "outputs": [],
   "source": []
  }
 ],
 "metadata": {},
 "nbformat": 4,
 "nbformat_minor": 5
}
