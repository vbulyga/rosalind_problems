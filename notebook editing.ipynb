{
 "cells": [
  {
   "cell_type": "code",
   "execution_count": 3,
   "id": "41df4944-92d9-433d-8b9d-7931f0221af1",
   "metadata": {
    "tags": []
   },
   "outputs": [],
   "source": [
    "import json\n",
    "import nbformat"
   ]
  },
  {
   "cell_type": "code",
   "execution_count": 51,
   "id": "ae041a10-388c-4af3-b99e-c5bafc1c641a",
   "metadata": {},
   "outputs": [],
   "source": [
    "with open('Problem-1-DNA.ipynb', 'r', encoding='utf-8') as file:\n",
    "    file_contents = json.load(file)"
   ]
  },
  {
   "cell_type": "code",
   "execution_count": 47,
   "id": "abb7d474-97cc-41d1-9bae-b3eef4fa5ddc",
   "metadata": {
    "tags": []
   },
   "outputs": [],
   "source": [
    "with open('notebook.ipynb', 'r', encoding='utf-8') as file:\n",
    "    file_contents = json.load(file)"
   ]
  },
  {
   "cell_type": "code",
   "execution_count": 52,
   "id": "e16bce00-4cb8-484d-bba9-7dd8a801ef52",
   "metadata": {
    "collapsed": true,
    "jupyter": {
     "outputs_hidden": true
    },
    "tags": []
   },
   "outputs": [
    {
     "data": {
      "text/plain": [
       "{'cells': [{'cell_type': 'markdown',\n",
       "   'id': '30787436-9db7-459c-ad36-85666a41a815',\n",
       "   'metadata': {},\n",
       "   'source': ['# 1. DNA']},\n",
       "  {'cell_type': 'code',\n",
       "   'execution_count': None,\n",
       "   'id': 'ae041a10-388c-4af3-b99e-c5bafc1c641a',\n",
       "   'metadata': {},\n",
       "   'outputs': [],\n",
       "   'source': ['for i in range(10\\n',\n",
       "    \"f = open('C:\\\\Users\\\\Victor\\\\Desktop\\\\Actually_important_to_me\\\\fun_coding_projects\\\\Rosalind Problems\\\\data', 'r')\\n\",\n",
       "    'dna_seq = f.open()']},\n",
       "  {'cell_type': 'markdown',\n",
       "   'id': 'c95d3355-9872-4a71-b235-5d69be4f021a',\n",
       "   'metadata': {},\n",
       "   'source': ['# 2. RNA']},\n",
       "  {'cell_type': 'code',\n",
       "   'execution_count': None,\n",
       "   'id': 'fee7c3e5-66c3-43d6-b401-5ff47d30bf39',\n",
       "   'metadata': {},\n",
       "   'outputs': [],\n",
       "   'source': []},\n",
       "  {'cell_type': 'markdown',\n",
       "   'id': '4282565e-118c-4e04-81bd-d19362e650a3',\n",
       "   'metadata': {'tags': []},\n",
       "   'source': ['# 3. REVC']},\n",
       "  {'cell_type': 'code',\n",
       "   'execution_count': None,\n",
       "   'id': '0d5cd73f-ea70-4516-8274-a6ac9dd2972f',\n",
       "   'metadata': {},\n",
       "   'outputs': [],\n",
       "   'source': []},\n",
       "  {'cell_type': 'markdown',\n",
       "   'id': 'a9eb418e-74b2-4f39-a1e0-2ef67f0d443e',\n",
       "   'metadata': {},\n",
       "   'source': ['# 4. FIB']},\n",
       "  {'cell_type': 'code',\n",
       "   'execution_count': None,\n",
       "   'id': '48abd60d-e633-4e8d-908e-5db92914e7e1',\n",
       "   'metadata': {},\n",
       "   'outputs': [],\n",
       "   'source': []},\n",
       "  {'cell_type': 'markdown',\n",
       "   'id': 'b747f5fb-f780-4c20-8395-8328cec1f94a',\n",
       "   'metadata': {},\n",
       "   'source': ['# 5. GC']},\n",
       "  {'cell_type': 'code',\n",
       "   'execution_count': None,\n",
       "   'id': 'adbf0cc0-8639-44b5-8353-46c5a843b1d0',\n",
       "   'metadata': {},\n",
       "   'outputs': [],\n",
       "   'source': []},\n",
       "  {'cell_type': 'markdown',\n",
       "   'id': '828d5a8e-8fe7-4f94-a941-329b1be6c477',\n",
       "   'metadata': {},\n",
       "   'source': ['# 6. HAMM']},\n",
       "  {'cell_type': 'code',\n",
       "   'execution_count': None,\n",
       "   'id': '6d578bf6-345d-478b-9409-763443d782b8',\n",
       "   'metadata': {},\n",
       "   'outputs': [],\n",
       "   'source': []},\n",
       "  {'cell_type': 'markdown',\n",
       "   'id': 'a3ccc2ae-d0b8-4d06-9ae0-5afdaddb9d82',\n",
       "   'metadata': {},\n",
       "   'source': ['# 7. IPRB']},\n",
       "  {'cell_type': 'code',\n",
       "   'execution_count': None,\n",
       "   'id': '44bd5229-a191-4cca-b7fa-2e8c5d88c5cf',\n",
       "   'metadata': {},\n",
       "   'outputs': [],\n",
       "   'source': []},\n",
       "  {'cell_type': 'markdown',\n",
       "   'id': '4529b3e5-8f7a-4ea2-89f1-0d2e70958e45',\n",
       "   'metadata': {},\n",
       "   'source': ['# 8. PROT']},\n",
       "  {'cell_type': 'code',\n",
       "   'execution_count': None,\n",
       "   'id': '928d89ca-4d71-43cb-95f3-358e446a0c5e',\n",
       "   'metadata': {},\n",
       "   'outputs': [],\n",
       "   'source': []},\n",
       "  {'cell_type': 'markdown',\n",
       "   'id': 'af99a722-e2c8-47c3-a054-5bcb9ecbd686',\n",
       "   'metadata': {},\n",
       "   'source': ['# 9. SUBS']},\n",
       "  {'cell_type': 'code',\n",
       "   'execution_count': None,\n",
       "   'id': '5992eece-1c63-41d5-9b39-6e29e05248fe',\n",
       "   'metadata': {},\n",
       "   'outputs': [],\n",
       "   'source': []},\n",
       "  {'cell_type': 'markdown',\n",
       "   'id': 'ae64a0a1-a63d-4249-8a33-24ef3cbbfea4',\n",
       "   'metadata': {},\n",
       "   'source': ['# 10. CONS']},\n",
       "  {'cell_type': 'code',\n",
       "   'execution_count': None,\n",
       "   'id': 'f866f168-6b9a-4130-9645-34e5d17239ba',\n",
       "   'metadata': {},\n",
       "   'outputs': [],\n",
       "   'source': []}],\n",
       " 'metadata': {'kernelspec': {'display_name': 'Python 3 (ipykernel)',\n",
       "   'language': 'python',\n",
       "   'name': 'python3'},\n",
       "  'language_info': {'codemirror_mode': {'name': 'ipython', 'version': 3},\n",
       "   'file_extension': '.py',\n",
       "   'mimetype': 'text/x-python',\n",
       "   'name': 'python',\n",
       "   'nbconvert_exporter': 'python',\n",
       "   'pygments_lexer': 'ipython3',\n",
       "   'version': '3.11.5'}},\n",
       " 'nbformat': 4,\n",
       " 'nbformat_minor': 5}"
      ]
     },
     "execution_count": 52,
     "metadata": {},
     "output_type": "execute_result"
    }
   ],
   "source": [
    "file_contents"
   ]
  },
  {
   "cell_type": "code",
   "execution_count": 2,
   "id": "6dfbb8ca-d5c5-4da4-b715-0f7d6158ad8a",
   "metadata": {
    "tags": []
   },
   "outputs": [
    {
     "data": {
      "text/plain": [
       "1885494701666050254987932260861146558230394535379329335672487982961844043495537923117729972224000000000000000000"
      ]
     },
     "execution_count": 2,
     "metadata": {},
     "output_type": "execute_result"
    }
   ],
   "source": [
    "n = 76\n",
    "f = 1\n",
    "for i in range(1, n + 1): f *= i\n",
    "f"
   ]
  },
  {
   "cell_type": "code",
   "execution_count": 166,
   "id": "c29f0f28-614a-4e47-ae00-4eb8f2d33c97",
   "metadata": {
    "tags": []
   },
   "outputs": [
    {
     "data": {
      "text/plain": [
       "['11. FIBD  Mortal Fibonacci Rabbits',\n",
       " '12. GRPH  Overlap Graphs',\n",
       " '13. IEV\\t  Calculating Expected Offspring',\n",
       " '14. LCSM  Finding a Shared Motif',\n",
       " '15. LIA\\t  Independent Alleles',\n",
       " '16. MPRT  Finding a Protein Motif',\n",
       " '17. MRNA  Inferring mRNA from Protein',\n",
       " '18. ORF  Open Reading Frames',\n",
       " '19. PERM  Enumerating Gene Orders',\n",
       " '20. PRTM  Calculating Protein Mass']"
      ]
     },
     "execution_count": 166,
     "metadata": {},
     "output_type": "execute_result"
    }
   ],
   "source": [
    "f = open('data/problem-list.txt', 'r')\n",
    "string_list = f.read().split('\\n')\n",
    "f.close()\n",
    "# string_list = string_list.split('\\n')\n",
    "i = 0\n",
    "length = len(string_list)\n",
    "problem_lists = []\n",
    "while(i < length):\n",
    "    problem_lists.append(string_list[i:i+10])\n",
    "    i += 11\n",
    "\n",
    "problem_lists[0]"
   ]
  },
  {
   "cell_type": "code",
   "execution_count": 170,
   "id": "74c4be08-23f6-4d96-ab95-ee3129ba363f",
   "metadata": {
    "tags": []
   },
   "outputs": [
    {
     "data": {
      "text/plain": [
       "['21. REVP  Locating Restriction Sites',\n",
       " '22. SPLC  RNA Splicing',\n",
       " '23. LEXF  Enumerating k-mers Lexicographically',\n",
       " '24. LGIS  Longest Increasing Subsequence',\n",
       " '25. LONG  Genome Assembly as Shortest Superstring',\n",
       " '26. PMCH  Perfect Matchings and RNA Secondary Structures',\n",
       " '27. PPER  Partial Permutations',\n",
       " '28. PROB  Introduction to Random Strings',\n",
       " '29. SIGN  Enumerating Oriented Gene Orderings',\n",
       " '30. SSEQ  Finding a Spliced Motif']"
      ]
     },
     "execution_count": 170,
     "metadata": {},
     "output_type": "execute_result"
    }
   ],
   "source": [
    "problem_lists[1]"
   ]
  },
  {
   "cell_type": "code",
   "execution_count": null,
   "id": "a3667575-dbd9-4ca5-8929-3331cc61c141",
   "metadata": {
    "tags": []
   },
   "outputs": [],
   "source": [
    "nb = nbformat.read('Problem-1-DNA.ipynb', 4)\n"
   ]
  },
  {
   "cell_type": "code",
   "execution_count": 181,
   "id": "ca3bce12-f6a3-491b-9b1e-8613ce62c190",
   "metadata": {
    "tags": []
   },
   "outputs": [],
   "source": [
    "for j in range(10):\n",
    "    nb = nbformat.v4.new_notebook()\n",
    "    low = 10*j + 11\n",
    "    for i in range(10):\n",
    "        try:\n",
    "            md_content = '# ' + problem_lists[j][i]\n",
    "            nb.cells.append(nbformat.v4.new_markdown_cell(md_content))\n",
    "            nb.cells.append(nbformat.v4.new_markdown_cell('### Loading Data'))\n",
    "            nb.cells.append(nbformat.v4.new_code_cell(''))\n",
    "            nb.cells.append(nbformat.v4.new_code_cell(''))\n",
    "        except:\n",
    "            md_content = ''\n",
    "    \n",
    "    # ep = ExecutePreprocessor(timeout=600, kernel_name='python3')\n",
    "    # try:\n",
    "    #     ep.preprocess(nb, {'metadata': {'path': '.'}})  # Use current directory\n",
    "    # except Exception as e:\n",
    "    #     print(f\"Execution failed: {e}\")\n",
    "    if low < 11:\n",
    "        high = '0' + str(low+9)\n",
    "        low = '00' + str(low)\n",
    "    elif low < 91:\n",
    "        high = '0' + str(low+9)\n",
    "        low = '0' + str(low)\n",
    "    elif low == 91:\n",
    "        high = str(low+9)\n",
    "        low = '0' + str(low)\n",
    "    else:\n",
    "        high = str(low+9)\n",
    "        low = str(low)\n",
    "    # print(low)\n",
    "    path = 'Problems-' + low + '-' + high + '.ipynb'\n",
    "    with open(path, 'w', encoding='utf-8') as f:\n",
    "        nbformat.write(nb, f, version=4)\n"
   ]
  },
  {
   "cell_type": "markdown",
   "id": "5f242829-0ff2-499d-b0da-2ee961883da1",
   "metadata": {},
   "source": [
    "# from Deepseek\n",
    "and https://stackoverflow.com/questions/73903291/how-to-add-code-cells-to-ipynb-files-and-run-them-via-a-python-script-py-file"
   ]
  },
  {
   "cell_type": "code",
   "execution_count": 161,
   "id": "db1b30f0-c2bb-4f7b-b0e6-8eb4828ffee1",
   "metadata": {
    "tags": []
   },
   "outputs": [],
   "source": [
    "import nbformat\n",
    "from nbconvert.preprocessors import ExecutePreprocessor\n",
    "\n",
    "# 1. First create a notebook if it doesn't exist (or read existing one)\n",
    "try:\n",
    "    # Try reading existing notebook\n",
    "    with open(\"my-amazing-notebook.ipynb\", 'r', encoding='utf-8') as f:\n",
    "        nb = nbformat.read(f, as_version=4)\n",
    "except FileNotFoundError:\n",
    "    # Create new notebook if file doesn't exist\n",
    "    nb = nbformat.v4.new_notebook()\n",
    "    nb.cells.append(nbformat.v4.new_markdown_cell(\"# My Amazing Notebook\"))\n",
    "\n",
    "# 2. Add new code cell\n",
    "nb.cells.append(nbformat.v4.new_code_cell(\"a = 13\"))\n",
    "\n",
    "# 3. Execute notebook\n",
    "ep = ExecutePreprocessor(timeout=600, kernel_name='python3')\n",
    "try:\n",
    "    ep.preprocess(nb, {'metadata': {'path': '.'}})  # Use current directory\n",
    "except Exception as e:\n",
    "    print(f\"Execution failed: {e}\")\n",
    "\n",
    "path = 'Problems-' + str(13) + '-' + str(13+9) + '.ipynb'\n",
    "with open(path, 'w', encoding='utf-8') as f:\n",
    "    nbformat.write(nb, f, version=4)"
   ]
  },
  {
   "cell_type": "code",
   "execution_count": null,
   "id": "311a4c25-628e-495e-a31a-0dac54c6b9ef",
   "metadata": {},
   "outputs": [
    {
     "data": {
      "text/plain": [
       "{'cells': [{'cell_type': 'markdown',\n",
       "   'id': '30787436-9db7-459c-ad36-85666a41a815',\n",
       "   'metadata': {},\n",
       "   'source': '# 1. DNA'},\n",
       "  {'cell_type': 'code',\n",
       "   'execution_count': None,\n",
       "   'id': 'ae041a10-388c-4af3-b99e-c5bafc1c641a',\n",
       "   'metadata': {},\n",
       "   'outputs': [],\n",
       "   'source': \"for i in range(10\\nf = open('C:\\\\Users\\\\Victor\\\\Desktop\\\\Actually_important_to_me\\\\fun_coding_projects\\\\Rosalind Problems\\\\data', 'r')\\ndna_seq = f.open()\"},\n",
       "  {'cell_type': 'markdown',\n",
       "   'id': 'c95d3355-9872-4a71-b235-5d69be4f021a',\n",
       "   'metadata': {},\n",
       "   'source': '# 2. RNA'},\n",
       "  {'cell_type': 'code',\n",
       "   'execution_count': None,\n",
       "   'id': 'fee7c3e5-66c3-43d6-b401-5ff47d30bf39',\n",
       "   'metadata': {},\n",
       "   'outputs': [],\n",
       "   'source': ''},\n",
       "  {'cell_type': 'markdown',\n",
       "   'id': '4282565e-118c-4e04-81bd-d19362e650a3',\n",
       "   'metadata': {'tags': []},\n",
       "   'source': '# 3. REVC'},\n",
       "  {'cell_type': 'code',\n",
       "   'execution_count': None,\n",
       "   'id': '0d5cd73f-ea70-4516-8274-a6ac9dd2972f',\n",
       "   'metadata': {},\n",
       "   'outputs': [],\n",
       "   'source': ''},\n",
       "  {'cell_type': 'markdown',\n",
       "   'id': 'a9eb418e-74b2-4f39-a1e0-2ef67f0d443e',\n",
       "   'metadata': {},\n",
       "   'source': '# 4. FIB'},\n",
       "  {'cell_type': 'code',\n",
       "   'execution_count': None,\n",
       "   'id': '48abd60d-e633-4e8d-908e-5db92914e7e1',\n",
       "   'metadata': {},\n",
       "   'outputs': [],\n",
       "   'source': ''},\n",
       "  {'cell_type': 'markdown',\n",
       "   'id': 'b747f5fb-f780-4c20-8395-8328cec1f94a',\n",
       "   'metadata': {},\n",
       "   'source': '# 5. GC'},\n",
       "  {'cell_type': 'code',\n",
       "   'execution_count': None,\n",
       "   'id': 'adbf0cc0-8639-44b5-8353-46c5a843b1d0',\n",
       "   'metadata': {},\n",
       "   'outputs': [],\n",
       "   'source': ''},\n",
       "  {'cell_type': 'markdown',\n",
       "   'id': '828d5a8e-8fe7-4f94-a941-329b1be6c477',\n",
       "   'metadata': {},\n",
       "   'source': '# 6. HAMM'},\n",
       "  {'cell_type': 'code',\n",
       "   'execution_count': None,\n",
       "   'id': '6d578bf6-345d-478b-9409-763443d782b8',\n",
       "   'metadata': {},\n",
       "   'outputs': [],\n",
       "   'source': ''},\n",
       "  {'cell_type': 'markdown',\n",
       "   'id': 'a3ccc2ae-d0b8-4d06-9ae0-5afdaddb9d82',\n",
       "   'metadata': {},\n",
       "   'source': '# 7. IPRB'},\n",
       "  {'cell_type': 'code',\n",
       "   'execution_count': None,\n",
       "   'id': '44bd5229-a191-4cca-b7fa-2e8c5d88c5cf',\n",
       "   'metadata': {},\n",
       "   'outputs': [],\n",
       "   'source': ''},\n",
       "  {'cell_type': 'markdown',\n",
       "   'id': '4529b3e5-8f7a-4ea2-89f1-0d2e70958e45',\n",
       "   'metadata': {},\n",
       "   'source': '# 8. PROT'},\n",
       "  {'cell_type': 'code',\n",
       "   'execution_count': None,\n",
       "   'id': '928d89ca-4d71-43cb-95f3-358e446a0c5e',\n",
       "   'metadata': {},\n",
       "   'outputs': [],\n",
       "   'source': ''},\n",
       "  {'cell_type': 'markdown',\n",
       "   'id': 'af99a722-e2c8-47c3-a054-5bcb9ecbd686',\n",
       "   'metadata': {},\n",
       "   'source': '# 9. SUBS'},\n",
       "  {'cell_type': 'code',\n",
       "   'execution_count': None,\n",
       "   'id': '5992eece-1c63-41d5-9b39-6e29e05248fe',\n",
       "   'metadata': {},\n",
       "   'outputs': [],\n",
       "   'source': ''},\n",
       "  {'cell_type': 'markdown',\n",
       "   'id': 'ae64a0a1-a63d-4249-8a33-24ef3cbbfea4',\n",
       "   'metadata': {},\n",
       "   'source': '# 10. CONS'},\n",
       "  {'cell_type': 'code',\n",
       "   'execution_count': None,\n",
       "   'id': 'f866f168-6b9a-4130-9645-34e5d17239ba',\n",
       "   'metadata': {},\n",
       "   'outputs': [],\n",
       "   'source': ''}],\n",
       " 'metadata': {'kernelspec': {'display_name': 'Python 3 (ipykernel)',\n",
       "   'language': 'python',\n",
       "   'name': 'python3'},\n",
       "  'language_info': {'codemirror_mode': {'name': 'ipython', 'version': 3},\n",
       "   'file_extension': '.py',\n",
       "   'mimetype': 'text/x-python',\n",
       "   'name': 'python',\n",
       "   'nbconvert_exporter': 'python',\n",
       "   'pygments_lexer': 'ipython3',\n",
       "   'version': '3.11.5'}},\n",
       " 'nbformat': 4,\n",
       " 'nbformat_minor': 5}"
      ]
     },
     "execution_count": 156,
     "metadata": {},
     "output_type": "execute_result"
    }
   ],
   "source": [
    "nbformat.read('Problem-1-DNA.ipynb', 4)"
   ]
  },
  {
   "cell_type": "code",
   "execution_count": 145,
   "id": "9331e9e1-68c7-4e83-8691-e7582c1aa429",
   "metadata": {},
   "outputs": [
    {
     "data": {
      "text/plain": [
       "'f6a61d02-c99b-4a71-9247-549ddceaeb27'"
      ]
     },
     "execution_count": 145,
     "metadata": {},
     "output_type": "execute_result"
    }
   ],
   "source": [
    "str(a)"
   ]
  },
  {
   "cell_type": "code",
   "execution_count": null,
   "id": "9c1c4cb2-2603-4582-965d-d8ff6272a370",
   "metadata": {
    "collapsed": true,
    "jupyter": {
     "outputs_hidden": true
    },
    "tags": []
   },
   "outputs": [
    {
     "ename": "UnsupportedOperation",
     "evalue": "not readable",
     "output_type": "error",
     "traceback": [
      "\u001b[1;31m---------------------------------------------------------------------------\u001b[0m",
      "\u001b[1;31mUnsupportedOperation\u001b[0m                      Traceback (most recent call last)",
      "Cell \u001b[1;32mIn[148], line 6\u001b[0m\n\u001b[0;32m      4\u001b[0m \u001b[38;5;66;03m# read notebook\u001b[39;00m\n\u001b[0;32m      5\u001b[0m \u001b[38;5;28;01mwith\u001b[39;00m \u001b[38;5;28mopen\u001b[39m(\u001b[38;5;124m\"\u001b[39m\u001b[38;5;124mmy-amazing-notebook.ipynb\u001b[39m\u001b[38;5;124m\"\u001b[39m, \u001b[38;5;124m'\u001b[39m\u001b[38;5;124mw\u001b[39m\u001b[38;5;124m'\u001b[39m) \u001b[38;5;28;01mas\u001b[39;00m f:\n\u001b[1;32m----> 6\u001b[0m     nb \u001b[38;5;241m=\u001b[39m nbformat\u001b[38;5;241m.\u001b[39mread(f, as_version\u001b[38;5;241m=\u001b[39m\u001b[38;5;241m4\u001b[39m)\n\u001b[0;32m      8\u001b[0m \u001b[38;5;66;03m# add code \u001b[39;00m\n\u001b[0;32m      9\u001b[0m nb[\u001b[38;5;124m\"\u001b[39m\u001b[38;5;124mcells\u001b[39m\u001b[38;5;124m\"\u001b[39m] \u001b[38;5;241m+\u001b[39m\u001b[38;5;241m=\u001b[39m [nbformat\u001b[38;5;241m.\u001b[39mv4\u001b[38;5;241m.\u001b[39mnew_code_cell(\u001b[38;5;124m\"\u001b[39m\u001b[38;5;124ma = 13\u001b[39m\u001b[38;5;124m\"\u001b[39m)]\n",
      "File \u001b[1;32m~\\anaconda3\\Lib\\site-packages\\nbformat\\__init__.py:166\u001b[0m, in \u001b[0;36mread\u001b[1;34m(fp, as_version, capture_validation_error, **kwargs)\u001b[0m\n\u001b[0;32m    138\u001b[0m \u001b[38;5;250m\u001b[39m\u001b[38;5;124;03m\"\"\"Read a notebook from a file as a NotebookNode of the given version.\u001b[39;00m\n\u001b[0;32m    139\u001b[0m \n\u001b[0;32m    140\u001b[0m \u001b[38;5;124;03mThe string can contain a notebook of any version.\u001b[39;00m\n\u001b[1;32m   (...)\u001b[0m\n\u001b[0;32m    162\u001b[0m \u001b[38;5;124;03m    The notebook that was read.\u001b[39;00m\n\u001b[0;32m    163\u001b[0m \u001b[38;5;124;03m\"\"\"\u001b[39;00m\n\u001b[0;32m    165\u001b[0m \u001b[38;5;28;01mtry\u001b[39;00m:\n\u001b[1;32m--> 166\u001b[0m     buf \u001b[38;5;241m=\u001b[39m fp\u001b[38;5;241m.\u001b[39mread()\n\u001b[0;32m    167\u001b[0m \u001b[38;5;28;01mexcept\u001b[39;00m \u001b[38;5;167;01mAttributeError\u001b[39;00m:\n\u001b[0;32m    168\u001b[0m     \u001b[38;5;28;01mwith\u001b[39;00m \u001b[38;5;28mopen\u001b[39m(fp, encoding\u001b[38;5;241m=\u001b[39m\u001b[38;5;124m\"\u001b[39m\u001b[38;5;124mutf-8\u001b[39m\u001b[38;5;124m\"\u001b[39m) \u001b[38;5;28;01mas\u001b[39;00m f:\n",
      "\u001b[1;31mUnsupportedOperation\u001b[0m: not readable"
     ]
    }
   ],
   "source": [
    "import nbformat\n",
    "from nbconvert.preprocessors import ExecutePreprocessor\n",
    "\n",
    "# read notebook\n",
    "with open(\"my-amazing-notebook.ipynb\", 'w') as f:\n",
    "    nb = nbformat.read(f, as_version=4)\n",
    "\n",
    "# add code \n",
    "nb[\"cells\"] += [nbformat.v4.new_code_cell(\"a = 13\")]\n",
    "\n",
    "# execute notebook\n",
    "ep = ExecutePreprocessor(timeout=600, kernel_name='python3')\n",
    "ep.preprocess(nb, {'metadata': {'path': 'notebooks/'}})\n",
    "\n",
    "# write notebook\n",
    "with open('executed-notebook.ipynb', 'w', encoding='utf-8') as f:\n",
    "    nbformat.write(nb, f)"
   ]
  },
  {
   "cell_type": "code",
   "execution_count": 65,
   "id": "32f928ca-8839-43d7-a276-2054cea1aef3",
   "metadata": {
    "tags": []
   },
   "outputs": [
    {
     "ename": "NameError",
     "evalue": "name 'nb' is not defined",
     "output_type": "error",
     "traceback": [
      "\u001b[1;31m---------------------------------------------------------------------------\u001b[0m",
      "\u001b[1;31mNameError\u001b[0m                                 Traceback (most recent call last)",
      "Cell \u001b[1;32mIn[65], line 1\u001b[0m\n\u001b[1;32m----> 1\u001b[0m nb[\u001b[38;5;124m'\u001b[39m\u001b[38;5;124mcells\u001b[39m\u001b[38;5;124m'\u001b[39m] \u001b[38;5;241m+\u001b[39m\u001b[38;5;241m=\u001b[39m nbformat\u001b[38;5;241m.\u001b[39mv4\u001b[38;5;241m.\u001b[39mnew_code_cell(\u001b[38;5;124m'\u001b[39m\u001b[38;5;124m'\u001b[39m,)\n",
      "\u001b[1;31mNameError\u001b[0m: name 'nb' is not defined"
     ]
    }
   ],
   "source": [
    "for i in range()\n",
    "    nb['cells'] += nbformat.v4.new('')\n",
    "            nb['cells'] += nbformat.v4.new_code_cell('')"
   ]
  }
 ],
 "metadata": {
  "kernelspec": {
   "display_name": "Python 3 (ipykernel)",
   "language": "python",
   "name": "python3"
  },
  "language_info": {
   "codemirror_mode": {
    "name": "ipython",
    "version": 3
   },
   "file_extension": ".py",
   "mimetype": "text/x-python",
   "name": "python",
   "nbconvert_exporter": "python",
   "pygments_lexer": "ipython3",
   "version": "3.11.5"
  }
 },
 "nbformat": 4,
 "nbformat_minor": 5
}
